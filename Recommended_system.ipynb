{
  "nbformat": 4,
  "nbformat_minor": 0,
  "metadata": {
    "colab": {
      "name": "Recommended_system.ipynb",
      "version": "0.3.2",
      "views": {},
      "default_view": {},
      "provenance": [],
      "collapsed_sections": [
        "bSjoAGXiZU9u",
        "Zkvy-EkqZ5KM"
      ]
    },
    "kernelspec": {
      "name": "python3",
      "display_name": "Python 3"
    },
    "accelerator": "GPU"
  },
  "cells": [
    {
      "metadata": {
        "id": "XJGJvec8p2Sw",
        "colab_type": "text"
      },
      "cell_type": "markdown",
      "source": [
        "# CINNAMON AI LAB assignment : Content base recommender system"
      ]
    },
    {
      "metadata": {
        "id": "_UD82jO3jYIk",
        "colab_type": "text"
      },
      "cell_type": "markdown",
      "source": [
        "## Approach : \n",
        ">\"We can choose which one that we prefer recommending it than recommending another by sorting distances between query object and all another objects\"\n",
        "\n",
        "I have no experience in NLP, so google is my senpai :D\n",
        "My approach to solve this problem :\n",
        "1. Preprocessing (Remove not important words)\n",
        "2. Somehow represent the data as vectors  \n",
        "3. Calculate distance with Euclid distance / cosine similarity of two vectors\n",
        "4. Give recommendation"
      ]
    },
    {
      "metadata": {
        "id": "ur0S5FhPop1L",
        "colab_type": "text"
      },
      "cell_type": "markdown",
      "source": [
        "### My preprocessing and vectorization is based on these kernels :\n",
        "- https://www.kaggle.com/arthurtok/spooky-nlp-and-topic-modelling-tutorial\n",
        "- https://www.kaggle.com/jagangupta/stop-the-s-toxic-comments-eda"
      ]
    },
    {
      "metadata": {
        "id": "bSjoAGXiZU9u",
        "colab_type": "text"
      },
      "cell_type": "markdown",
      "source": [
        "## Upload data (actually get from drive)"
      ]
    },
    {
      "metadata": {
        "id": "8g8qIxV4YLbG",
        "colab_type": "code",
        "colab": {
          "autoexec": {
            "startup": false,
            "wait_interval": 0
          },
          "output_extras": [
            {
              "item_id": 4
            }
          ],
          "base_uri": "https://localhost:8080/",
          "height": 104
        },
        "outputId": "d0f19aeb-ef1e-4edc-d8dc-399f08003062",
        "executionInfo": {
          "status": "ok",
          "timestamp": 1519875126808,
          "user_tz": -420,
          "elapsed": 15156,
          "user": {
            "displayName": "Le Thanh",
            "photoUrl": "https://lh3.googleusercontent.com/a/default-user=s128",
            "userId": "101606538408507055417"
          }
        }
      },
      "cell_type": "code",
      "source": [
        "!apt-get install -y -qq software-properties-common python-software-properties module-init-tools\n",
        "!add-apt-repository -y ppa:alessandro-strada/ppa 2>&1 > /dev/null\n",
        "!apt-get update -qq 2>&1 > /dev/null\n",
        "!apt-get -y install -qq google-drive-ocamlfuse fuse\n",
        "from google.colab import auth\n",
        "auth.authenticate_user()\n",
        "from oauth2client.client import GoogleCredentials\n",
        "creds = GoogleCredentials.get_application_default()\n",
        "import getpass\n",
        "!google-drive-ocamlfuse -headless -id={creds.client_id} -secret={creds.client_secret} < /dev/null 2>&1 | grep URL\n",
        "vcode = getpass.getpass()\n",
        "!echo {vcode} | google-drive-ocamlfuse -headless -id={creds.client_id} -secret={creds.client_secret}"
      ],
      "execution_count": 2,
      "outputs": [
        {
          "output_type": "stream",
          "text": [
            "Please, open the following URL in a web browser: https://accounts.google.com/o/oauth2/auth?client_id=32555940559.apps.googleusercontent.com&redirect_uri=urn%3Aietf%3Awg%3Aoauth%3A2.0%3Aoob&scope=https%3A%2F%2Fwww.googleapis.com%2Fauth%2Fdrive&response_type=code&access_type=offline&approval_prompt=force\r\n",
            "··········\n",
            "Please, open the following URL in a web browser: https://accounts.google.com/o/oauth2/auth?client_id=32555940559.apps.googleusercontent.com&redirect_uri=urn%3Aietf%3Awg%3Aoauth%3A2.0%3Aoob&scope=https%3A%2F%2Fwww.googleapis.com%2Fauth%2Fdrive&response_type=code&access_type=offline&approval_prompt=force\n",
            "Please enter the verification code: Access token retrieved correctly.\n"
          ],
          "name": "stdout"
        }
      ]
    },
    {
      "metadata": {
        "id": "kuAhZAmYYL7X",
        "colab_type": "code",
        "colab": {
          "autoexec": {
            "startup": false,
            "wait_interval": 0
          }
        }
      },
      "cell_type": "code",
      "source": [
        "!mkdir -p drive\n",
        "!google-drive-ocamlfuse drive"
      ],
      "execution_count": 0,
      "outputs": []
    },
    {
      "metadata": {
        "id": "QPwCiGTZYhCf",
        "colab_type": "code",
        "colab": {
          "autoexec": {
            "startup": false,
            "wait_interval": 0
          }
        }
      },
      "cell_type": "code",
      "source": [
        "!cp drive/Assignment\\ 1.zip ."
      ],
      "execution_count": 0,
      "outputs": []
    },
    {
      "metadata": {
        "id": "cS2bHAauYhtI",
        "colab_type": "code",
        "colab": {
          "autoexec": {
            "startup": false,
            "wait_interval": 0
          },
          "output_extras": [
            {
              "item_id": 1
            }
          ],
          "base_uri": "https://localhost:8080/",
          "height": 34
        },
        "outputId": "5d301695-f39b-4b81-ea12-3cb90b1c1c7f",
        "executionInfo": {
          "status": "ok",
          "timestamp": 1519875178414,
          "user_tz": -420,
          "elapsed": 845,
          "user": {
            "displayName": "Le Thanh",
            "photoUrl": "https://lh3.googleusercontent.com/a/default-user=s128",
            "userId": "101606538408507055417"
          }
        }
      },
      "cell_type": "code",
      "source": [
        "!ls"
      ],
      "execution_count": 5,
      "outputs": [
        {
          "output_type": "stream",
          "text": [
            "Assignment 1.zip  datalab  drive\r\n"
          ],
          "name": "stdout"
        }
      ]
    },
    {
      "metadata": {
        "id": "Zkvy-EkqZ5KM",
        "colab_type": "text"
      },
      "cell_type": "markdown",
      "source": [
        "## Unzip and get csv file"
      ]
    },
    {
      "metadata": {
        "id": "LkHzwqQHYvR2",
        "colab_type": "code",
        "colab": {
          "autoexec": {
            "startup": false,
            "wait_interval": 0
          },
          "output_extras": [
            {
              "item_id": 4
            }
          ],
          "base_uri": "https://localhost:8080/",
          "height": 101
        },
        "outputId": "f2790cd2-9fb3-42a8-82a4-371112030c98",
        "executionInfo": {
          "status": "ok",
          "timestamp": 1519875185878,
          "user_tz": -420,
          "elapsed": 1843,
          "user": {
            "displayName": "Le Thanh",
            "photoUrl": "https://lh3.googleusercontent.com/a/default-user=s128",
            "userId": "101606538408507055417"
          }
        }
      },
      "cell_type": "code",
      "source": [
        "!apt-get install unzip"
      ],
      "execution_count": 6,
      "outputs": [
        {
          "output_type": "stream",
          "text": [
            "Reading package lists... Done\n",
            "Building dependency tree       \n",
            "Reading state information... Done\n",
            "unzip is already the newest version (6.0-21ubuntu1).\n",
            "0 upgraded, 0 newly installed, 0 to remove and 36 not upgraded.\n"
          ],
          "name": "stdout"
        }
      ]
    },
    {
      "metadata": {
        "id": "lXeqkffbY6tC",
        "colab_type": "code",
        "colab": {
          "autoexec": {
            "startup": false,
            "wait_interval": 0
          },
          "output_extras": [
            {
              "item_id": 2
            }
          ],
          "base_uri": "https://localhost:8080/",
          "height": 151
        },
        "outputId": "f48ba21c-0546-4a50-fc55-5fd5501eda87",
        "executionInfo": {
          "status": "ok",
          "timestamp": 1519875189639,
          "user_tz": -420,
          "elapsed": 2223,
          "user": {
            "displayName": "Le Thanh",
            "photoUrl": "https://lh3.googleusercontent.com/a/default-user=s128",
            "userId": "101606538408507055417"
          }
        }
      },
      "cell_type": "code",
      "source": [
        "!unzip Assignment\\ 1.zip"
      ],
      "execution_count": 7,
      "outputs": [
        {
          "output_type": "stream",
          "text": [
            "Archive:  Assignment 1.zip\r\n",
            "   creating: Assignment 1/\r\n",
            "  inflating: Assignment 1/Recommender system assignment.pptx  \r\n",
            "   creating: __MACOSX/\r\n",
            "   creating: __MACOSX/Assignment 1/\r\n",
            "  inflating: __MACOSX/Assignment 1/._Recommender system assignment.pptx  \n",
            "  inflating: Assignment 1/people_wiki.csv  \n",
            "  inflating: __MACOSX/Assignment 1/._people_wiki.csv  \n"
          ],
          "name": "stdout"
        }
      ]
    },
    {
      "metadata": {
        "id": "m4_wXyBKZDLH",
        "colab_type": "code",
        "colab": {
          "autoexec": {
            "startup": false,
            "wait_interval": 0
          },
          "output_extras": [
            {
              "item_id": 1
            }
          ],
          "base_uri": "https://localhost:8080/",
          "height": 34
        },
        "outputId": "9a265d48-26fd-448b-e8bb-a98cde2d282e",
        "executionInfo": {
          "status": "ok",
          "timestamp": 1519875191909,
          "user_tz": -420,
          "elapsed": 809,
          "user": {
            "displayName": "Le Thanh",
            "photoUrl": "https://lh3.googleusercontent.com/a/default-user=s128",
            "userId": "101606538408507055417"
          }
        }
      },
      "cell_type": "code",
      "source": [
        "!ls Assignment\\ 1"
      ],
      "execution_count": 8,
      "outputs": [
        {
          "output_type": "stream",
          "text": [
            "people_wiki.csv  Recommender system assignment.pptx\r\n"
          ],
          "name": "stdout"
        }
      ]
    },
    {
      "metadata": {
        "id": "chl_R8nGZHlK",
        "colab_type": "code",
        "colab": {
          "autoexec": {
            "startup": false,
            "wait_interval": 0
          }
        }
      },
      "cell_type": "code",
      "source": [
        "!cp Assignment\\ 1/people_wiki.csv ."
      ],
      "execution_count": 0,
      "outputs": []
    },
    {
      "metadata": {
        "id": "bm6PxTLTZNpq",
        "colab_type": "code",
        "colab": {
          "autoexec": {
            "startup": false,
            "wait_interval": 0
          },
          "output_extras": [
            {
              "item_id": 1
            }
          ],
          "base_uri": "https://localhost:8080/",
          "height": 34
        },
        "outputId": "9ae68e9b-9ee3-46ed-ac74-61b613c35089",
        "executionInfo": {
          "status": "ok",
          "timestamp": 1519875195310,
          "user_tz": -420,
          "elapsed": 819,
          "user": {
            "displayName": "Le Thanh",
            "photoUrl": "https://lh3.googleusercontent.com/a/default-user=s128",
            "userId": "101606538408507055417"
          }
        }
      },
      "cell_type": "code",
      "source": [
        "!ls"
      ],
      "execution_count": 10,
      "outputs": [
        {
          "output_type": "stream",
          "text": [
            "Assignment 1  Assignment 1.zip\tdatalab  drive\t__MACOSX  people_wiki.csv\r\n"
          ],
          "name": "stdout"
        }
      ]
    },
    {
      "metadata": {
        "id": "ZOVlWkmxZOen",
        "colab_type": "code",
        "colab": {
          "autoexec": {
            "startup": false,
            "wait_interval": 0
          }
        }
      },
      "cell_type": "code",
      "source": [
        "!rm -rf Assignment\\ 1 Assignment\\ 1.zip __MACOSX/"
      ],
      "execution_count": 0,
      "outputs": []
    },
    {
      "metadata": {
        "id": "hTah8xYcZpU1",
        "colab_type": "code",
        "colab": {
          "autoexec": {
            "startup": false,
            "wait_interval": 0
          },
          "output_extras": [
            {
              "item_id": 1
            }
          ],
          "base_uri": "https://localhost:8080/",
          "height": 34
        },
        "outputId": "b96f88d5-2101-45ac-e52b-aa72da8ecf38",
        "executionInfo": {
          "status": "ok",
          "timestamp": 1519875223175,
          "user_tz": -420,
          "elapsed": 834,
          "user": {
            "displayName": "Le Thanh",
            "photoUrl": "https://lh3.googleusercontent.com/a/default-user=s128",
            "userId": "101606538408507055417"
          }
        }
      },
      "cell_type": "code",
      "source": [
        "!ls"
      ],
      "execution_count": 13,
      "outputs": [
        {
          "output_type": "stream",
          "text": [
            "datalab  drive\tpeople_wiki.csv\r\n"
          ],
          "name": "stdout"
        }
      ]
    },
    {
      "metadata": {
        "id": "lB7syoVtaAbr",
        "colab_type": "text"
      },
      "cell_type": "markdown",
      "source": [
        "## Data exploring"
      ]
    },
    {
      "metadata": {
        "id": "hg0d4CN0ZrjT",
        "colab_type": "code",
        "colab": {
          "autoexec": {
            "startup": false,
            "wait_interval": 0
          },
          "output_extras": [
            {
              "item_id": 1
            }
          ],
          "base_uri": "https://localhost:8080/",
          "height": 34
        },
        "outputId": "f7fec4b7-feec-414e-da53-711369b1e9f7",
        "executionInfo": {
          "status": "ok",
          "timestamp": 1519875229721,
          "user_tz": -420,
          "elapsed": 847,
          "user": {
            "displayName": "Le Thanh",
            "photoUrl": "https://lh3.googleusercontent.com/a/default-user=s128",
            "userId": "101606538408507055417"
          }
        }
      },
      "cell_type": "code",
      "source": [
        "!ls"
      ],
      "execution_count": 14,
      "outputs": [
        {
          "output_type": "stream",
          "text": [
            "datalab  drive\tpeople_wiki.csv\r\n"
          ],
          "name": "stdout"
        }
      ]
    },
    {
      "metadata": {
        "id": "yae9XTMjZzhq",
        "colab_type": "code",
        "colab": {
          "autoexec": {
            "startup": false,
            "wait_interval": 0
          }
        }
      },
      "cell_type": "code",
      "source": [
        "import pandas as pd, numpy as np"
      ],
      "execution_count": 0,
      "outputs": []
    },
    {
      "metadata": {
        "id": "HOXF7zkbaK6I",
        "colab_type": "code",
        "colab": {
          "autoexec": {
            "startup": false,
            "wait_interval": 0
          }
        }
      },
      "cell_type": "code",
      "source": [
        "raw_data = pd.read_csv('people_wiki.csv')"
      ],
      "execution_count": 0,
      "outputs": []
    },
    {
      "metadata": {
        "id": "4OnEXQl3aZmw",
        "colab_type": "code",
        "colab": {
          "autoexec": {
            "startup": false,
            "wait_interval": 0
          },
          "output_extras": [
            {
              "item_id": 1
            }
          ],
          "base_uri": "https://localhost:8080/",
          "height": 197
        },
        "outputId": "c5ca2c38-d5c5-4095-bc55-33e7ea535825",
        "executionInfo": {
          "status": "ok",
          "timestamp": 1519875237560,
          "user_tz": -420,
          "elapsed": 831,
          "user": {
            "displayName": "Le Thanh",
            "photoUrl": "https://lh3.googleusercontent.com/a/default-user=s128",
            "userId": "101606538408507055417"
          }
        }
      },
      "cell_type": "code",
      "source": [
        "raw_data[0:5]"
      ],
      "execution_count": 17,
      "outputs": [
        {
          "output_type": "execute_result",
          "data": {
            "text/html": [
              "<div>\n",
              "<style scoped>\n",
              "    .dataframe tbody tr th:only-of-type {\n",
              "        vertical-align: middle;\n",
              "    }\n",
              "\n",
              "    .dataframe tbody tr th {\n",
              "        vertical-align: top;\n",
              "    }\n",
              "\n",
              "    .dataframe thead th {\n",
              "        text-align: right;\n",
              "    }\n",
              "</style>\n",
              "<table border=\"1\" class=\"dataframe\">\n",
              "  <thead>\n",
              "    <tr style=\"text-align: right;\">\n",
              "      <th></th>\n",
              "      <th>URI</th>\n",
              "      <th>name</th>\n",
              "      <th>text</th>\n",
              "    </tr>\n",
              "  </thead>\n",
              "  <tbody>\n",
              "    <tr>\n",
              "      <th>0</th>\n",
              "      <td>&lt;http://dbpedia.org/resource/Digby_Morrell&gt;</td>\n",
              "      <td>Digby Morrell</td>\n",
              "      <td>digby morrell born 10 october 1979 is a former...</td>\n",
              "    </tr>\n",
              "    <tr>\n",
              "      <th>1</th>\n",
              "      <td>&lt;http://dbpedia.org/resource/Alfred_J._Lewy&gt;</td>\n",
              "      <td>Alfred J. Lewy</td>\n",
              "      <td>alfred j lewy aka sandy lewy graduated from un...</td>\n",
              "    </tr>\n",
              "    <tr>\n",
              "      <th>2</th>\n",
              "      <td>&lt;http://dbpedia.org/resource/Harpdog_Brown&gt;</td>\n",
              "      <td>Harpdog Brown</td>\n",
              "      <td>harpdog brown is a singer and harmonica player...</td>\n",
              "    </tr>\n",
              "    <tr>\n",
              "      <th>3</th>\n",
              "      <td>&lt;http://dbpedia.org/resource/Franz_Rottensteiner&gt;</td>\n",
              "      <td>Franz Rottensteiner</td>\n",
              "      <td>franz rottensteiner born in waidmannsfeld lowe...</td>\n",
              "    </tr>\n",
              "    <tr>\n",
              "      <th>4</th>\n",
              "      <td>&lt;http://dbpedia.org/resource/G-Enka&gt;</td>\n",
              "      <td>G-Enka</td>\n",
              "      <td>henry krvits born 30 december 1974 in tallinn ...</td>\n",
              "    </tr>\n",
              "  </tbody>\n",
              "</table>\n",
              "</div>"
            ],
            "text/plain": [
              "                                                 URI                 name  \\\n",
              "0        <http://dbpedia.org/resource/Digby_Morrell>        Digby Morrell   \n",
              "1       <http://dbpedia.org/resource/Alfred_J._Lewy>       Alfred J. Lewy   \n",
              "2        <http://dbpedia.org/resource/Harpdog_Brown>        Harpdog Brown   \n",
              "3  <http://dbpedia.org/resource/Franz_Rottensteiner>  Franz Rottensteiner   \n",
              "4               <http://dbpedia.org/resource/G-Enka>               G-Enka   \n",
              "\n",
              "                                                text  \n",
              "0  digby morrell born 10 october 1979 is a former...  \n",
              "1  alfred j lewy aka sandy lewy graduated from un...  \n",
              "2  harpdog brown is a singer and harmonica player...  \n",
              "3  franz rottensteiner born in waidmannsfeld lowe...  \n",
              "4  henry krvits born 30 december 1974 in tallinn ...  "
            ]
          },
          "metadata": {
            "tags": []
          },
          "execution_count": 17
        }
      ]
    },
    {
      "metadata": {
        "id": "kRIV6m5TadsM",
        "colab_type": "code",
        "colab": {
          "autoexec": {
            "startup": false,
            "wait_interval": 0
          },
          "output_extras": [
            {
              "item_id": 1
            }
          ],
          "base_uri": "https://localhost:8080/",
          "height": 34
        },
        "outputId": "abefd4b6-bbdb-467e-d000-52c28e6f6e05",
        "executionInfo": {
          "status": "ok",
          "timestamp": 1519875242065,
          "user_tz": -420,
          "elapsed": 822,
          "user": {
            "displayName": "Le Thanh",
            "photoUrl": "https://lh3.googleusercontent.com/a/default-user=s128",
            "userId": "101606538408507055417"
          }
        }
      },
      "cell_type": "code",
      "source": [
        "raw_data.shape"
      ],
      "execution_count": 18,
      "outputs": [
        {
          "output_type": "execute_result",
          "data": {
            "text/plain": [
              "(59071, 3)"
            ]
          },
          "metadata": {
            "tags": []
          },
          "execution_count": 18
        }
      ]
    },
    {
      "metadata": {
        "id": "RQLIQt6OotT6",
        "colab_type": "code",
        "colab": {
          "autoexec": {
            "startup": false,
            "wait_interval": 0
          },
          "output_extras": [
            {
              "item_id": 1
            }
          ],
          "base_uri": "https://localhost:8080/",
          "height": 346
        },
        "outputId": "e3b2e2a5-a0ec-4a51-c04a-70b6a0e8a72a",
        "executionInfo": {
          "status": "ok",
          "timestamp": 1519875453438,
          "user_tz": -420,
          "elapsed": 849,
          "user": {
            "displayName": "Le Thanh",
            "photoUrl": "https://lh3.googleusercontent.com/a/default-user=s128",
            "userId": "101606538408507055417"
          }
        }
      },
      "cell_type": "code",
      "source": [
        "raw_data.tail(10)"
      ],
      "execution_count": 24,
      "outputs": [
        {
          "output_type": "execute_result",
          "data": {
            "text/html": [
              "<div>\n",
              "<style scoped>\n",
              "    .dataframe tbody tr th:only-of-type {\n",
              "        vertical-align: middle;\n",
              "    }\n",
              "\n",
              "    .dataframe tbody tr th {\n",
              "        vertical-align: top;\n",
              "    }\n",
              "\n",
              "    .dataframe thead th {\n",
              "        text-align: right;\n",
              "    }\n",
              "</style>\n",
              "<table border=\"1\" class=\"dataframe\">\n",
              "  <thead>\n",
              "    <tr style=\"text-align: right;\">\n",
              "      <th></th>\n",
              "      <th>URI</th>\n",
              "      <th>name</th>\n",
              "      <th>text</th>\n",
              "    </tr>\n",
              "  </thead>\n",
              "  <tbody>\n",
              "    <tr>\n",
              "      <th>59061</th>\n",
              "      <td>&lt;http://dbpedia.org/resource/Rod_Wilt&gt;</td>\n",
              "      <td>Rod Wilt</td>\n",
              "      <td>rod wilt is a former republican member of the ...</td>\n",
              "    </tr>\n",
              "    <tr>\n",
              "      <th>59062</th>\n",
              "      <td>&lt;http://dbpedia.org/resource/Scott_Baker_(judge)&gt;</td>\n",
              "      <td>Scott Baker (judge)</td>\n",
              "      <td>sir thomas scott gillespie baker born 10 decem...</td>\n",
              "    </tr>\n",
              "    <tr>\n",
              "      <th>59063</th>\n",
              "      <td>&lt;http://dbpedia.org/resource/Dragoljub_Ojdani%...</td>\n",
              "      <td>Dragoljub Ojdani%C4%87</td>\n",
              "      <td>dragoljub ojdani serbian cyrillic born june 1 ...</td>\n",
              "    </tr>\n",
              "    <tr>\n",
              "      <th>59064</th>\n",
              "      <td>&lt;http://dbpedia.org/resource/Oz_Bengur&gt;</td>\n",
              "      <td>Oz Bengur</td>\n",
              "      <td>osman oz bengur born february 23 1949 is an am...</td>\n",
              "    </tr>\n",
              "    <tr>\n",
              "      <th>59065</th>\n",
              "      <td>&lt;http://dbpedia.org/resource/Dee_Brown_(basket...</td>\n",
              "      <td>Dee Brown (basketball, born 1968)</td>\n",
              "      <td>decovan kadell dee brown born november 29 1968...</td>\n",
              "    </tr>\n",
              "    <tr>\n",
              "      <th>59066</th>\n",
              "      <td>&lt;http://dbpedia.org/resource/Olari_Elts&gt;</td>\n",
              "      <td>Olari Elts</td>\n",
              "      <td>olari elts born april 27 1971 in tallinn eston...</td>\n",
              "    </tr>\n",
              "    <tr>\n",
              "      <th>59067</th>\n",
              "      <td>&lt;http://dbpedia.org/resource/Scott_F._Crago&gt;</td>\n",
              "      <td>Scott F. Crago</td>\n",
              "      <td>scott francis crago born july 26 1963 twin bro...</td>\n",
              "    </tr>\n",
              "    <tr>\n",
              "      <th>59068</th>\n",
              "      <td>&lt;http://dbpedia.org/resource/David_Cass_(footb...</td>\n",
              "      <td>David Cass (footballer)</td>\n",
              "      <td>david william royce cass born 27 march 1962 in...</td>\n",
              "    </tr>\n",
              "    <tr>\n",
              "      <th>59069</th>\n",
              "      <td>&lt;http://dbpedia.org/resource/Keith_Elias&gt;</td>\n",
              "      <td>Keith Elias</td>\n",
              "      <td>keith hector elias born february 3 1972 in lac...</td>\n",
              "    </tr>\n",
              "    <tr>\n",
              "      <th>59070</th>\n",
              "      <td>&lt;http://dbpedia.org/resource/Fawaz_Damrah&gt;</td>\n",
              "      <td>Fawaz Damrah</td>\n",
              "      <td>fawaz mohammed damrah arabic fawwz damra was t...</td>\n",
              "    </tr>\n",
              "  </tbody>\n",
              "</table>\n",
              "</div>"
            ],
            "text/plain": [
              "                                                     URI  \\\n",
              "59061             <http://dbpedia.org/resource/Rod_Wilt>   \n",
              "59062  <http://dbpedia.org/resource/Scott_Baker_(judge)>   \n",
              "59063  <http://dbpedia.org/resource/Dragoljub_Ojdani%...   \n",
              "59064            <http://dbpedia.org/resource/Oz_Bengur>   \n",
              "59065  <http://dbpedia.org/resource/Dee_Brown_(basket...   \n",
              "59066           <http://dbpedia.org/resource/Olari_Elts>   \n",
              "59067       <http://dbpedia.org/resource/Scott_F._Crago>   \n",
              "59068  <http://dbpedia.org/resource/David_Cass_(footb...   \n",
              "59069          <http://dbpedia.org/resource/Keith_Elias>   \n",
              "59070         <http://dbpedia.org/resource/Fawaz_Damrah>   \n",
              "\n",
              "                                    name  \\\n",
              "59061                           Rod Wilt   \n",
              "59062                Scott Baker (judge)   \n",
              "59063             Dragoljub Ojdani%C4%87   \n",
              "59064                          Oz Bengur   \n",
              "59065  Dee Brown (basketball, born 1968)   \n",
              "59066                         Olari Elts   \n",
              "59067                     Scott F. Crago   \n",
              "59068            David Cass (footballer)   \n",
              "59069                        Keith Elias   \n",
              "59070                       Fawaz Damrah   \n",
              "\n",
              "                                                    text  \n",
              "59061  rod wilt is a former republican member of the ...  \n",
              "59062  sir thomas scott gillespie baker born 10 decem...  \n",
              "59063  dragoljub ojdani serbian cyrillic born june 1 ...  \n",
              "59064  osman oz bengur born february 23 1949 is an am...  \n",
              "59065  decovan kadell dee brown born november 29 1968...  \n",
              "59066  olari elts born april 27 1971 in tallinn eston...  \n",
              "59067  scott francis crago born july 26 1963 twin bro...  \n",
              "59068  david william royce cass born 27 march 1962 in...  \n",
              "59069  keith hector elias born february 3 1972 in lac...  \n",
              "59070  fawaz mohammed damrah arabic fawwz damra was t...  "
            ]
          },
          "metadata": {
            "tags": []
          },
          "execution_count": 24
        }
      ]
    },
    {
      "metadata": {
        "id": "rJQALEWHo3D8",
        "colab_type": "code",
        "colab": {
          "autoexec": {
            "startup": false,
            "wait_interval": 0
          },
          "output_extras": [
            {
              "item_id": 1
            }
          ],
          "base_uri": "https://localhost:8080/",
          "height": 84
        },
        "outputId": "4eb21229-eee2-40f6-9258-262c14c3d918",
        "executionInfo": {
          "status": "ok",
          "timestamp": 1519875517680,
          "user_tz": -420,
          "elapsed": 1005,
          "user": {
            "displayName": "Le Thanh",
            "photoUrl": "https://lh3.googleusercontent.com/a/default-user=s128",
            "userId": "101606538408507055417"
          }
        }
      },
      "cell_type": "code",
      "source": [
        "# Check for missing value : \n",
        "null_check=raw_data.isnull().sum()\n",
        "print(null_check)"
      ],
      "execution_count": 26,
      "outputs": [
        {
          "output_type": "stream",
          "text": [
            "URI     0\n",
            "name    0\n",
            "text    0\n",
            "dtype: int64\n"
          ],
          "name": "stdout"
        }
      ]
    },
    {
      "metadata": {
        "id": "U1e5KJVyIett",
        "colab_type": "text"
      },
      "cell_type": "markdown",
      "source": [
        "## Preprocessing"
      ]
    },
    {
      "metadata": {
        "id": "L3froxLnqgu_",
        "colab_type": "code",
        "colab": {
          "autoexec": {
            "startup": false,
            "wait_interval": 0
          }
        }
      },
      "cell_type": "code",
      "source": [
        "text = raw_data.text"
      ],
      "execution_count": 0,
      "outputs": []
    },
    {
      "metadata": {
        "id": "_ta5TXI2o2_G",
        "colab_type": "code",
        "colab": {
          "autoexec": {
            "startup": false,
            "wait_interval": 0
          }
        }
      },
      "cell_type": "code",
      "source": [
        "from nltk import pos_tag\n",
        "from nltk.stem.wordnet import WordNetLemmatizer \n",
        "from nltk.tokenize import word_tokenize\n",
        "# Tweet tokenizer does not split at apostophes which is what we want\n",
        "from nltk.tokenize import TweetTokenizer   \n",
        "lem = WordNetLemmatizer()\n",
        "tokenizer=TweetTokenizer()"
      ],
      "execution_count": 0,
      "outputs": []
    },
    {
      "metadata": {
        "id": "xJNfPKt8qvlu",
        "colab_type": "code",
        "colab": {
          "autoexec": {
            "startup": false,
            "wait_interval": 0
          }
        }
      },
      "cell_type": "code",
      "source": [
        "APPO = {\n",
        "\"aren't\" : \"are not\",\n",
        "\"can't\" : \"cannot\",\n",
        "\"couldn't\" : \"could not\",\n",
        "\"didn't\" : \"did not\",\n",
        "\"doesn't\" : \"does not\",\n",
        "\"don't\" : \"do not\",\n",
        "\"hadn't\" : \"had not\",\n",
        "\"hasn't\" : \"has not\",\n",
        "\"haven't\" : \"have not\",\n",
        "\"he'd\" : \"he would\",\n",
        "\"he'll\" : \"he will\",\n",
        "\"he's\" : \"he is\",\n",
        "\"i'd\" : \"I would\",\n",
        "\"i'd\" : \"I had\",\n",
        "\"i'll\" : \"I will\",\n",
        "\"i'm\" : \"I am\",\n",
        "\"isn't\" : \"is not\",\n",
        "\"it's\" : \"it is\",\n",
        "\"it'll\":\"it will\",\n",
        "\"i've\" : \"I have\",\n",
        "\"let's\" : \"let us\",\n",
        "\"mightn't\" : \"might not\",\n",
        "\"mustn't\" : \"must not\",\n",
        "\"shan't\" : \"shall not\",\n",
        "\"she'd\" : \"she would\",\n",
        "\"she'll\" : \"she will\",\n",
        "\"she's\" : \"she is\",\n",
        "\"shouldn't\" : \"should not\",\n",
        "\"that's\" : \"that is\",\n",
        "\"there's\" : \"there is\",\n",
        "\"they'd\" : \"they would\",\n",
        "\"they'll\" : \"they will\",\n",
        "\"they're\" : \"they are\",\n",
        "\"they've\" : \"they have\",\n",
        "\"we'd\" : \"we would\",\n",
        "\"we're\" : \"we are\",\n",
        "\"weren't\" : \"were not\",\n",
        "\"we've\" : \"we have\",\n",
        "\"what'll\" : \"what will\",\n",
        "\"what're\" : \"what are\",\n",
        "\"what's\" : \"what is\",\n",
        "\"what've\" : \"what have\",\n",
        "\"where's\" : \"where is\",\n",
        "\"who'd\" : \"who would\",\n",
        "\"who'll\" : \"who will\",\n",
        "\"who're\" : \"who are\",\n",
        "\"who's\" : \"who is\",\n",
        "\"who've\" : \"who have\",\n",
        "\"won't\" : \"will not\",\n",
        "\"wouldn't\" : \"would not\",\n",
        "\"you'd\" : \"you would\",\n",
        "\"you'll\" : \"you will\",\n",
        "\"you're\" : \"you are\",\n",
        "\"you've\" : \"you have\",\n",
        "\"'re\": \" are\",\n",
        "\"wasn't\": \"was not\",\n",
        "\"we'll\":\" will\",\n",
        "\"didn't\": \"did not\",\n",
        "\"tryin'\":\"trying\"\n",
        "}"
      ],
      "execution_count": 0,
      "outputs": []
    },
    {
      "metadata": {
        "id": "1QBTToScxoW8",
        "colab_type": "code",
        "colab": {
          "autoexec": {
            "startup": false,
            "wait_interval": 0
          },
          "output_extras": [
            {
              "item_id": 2
            },
            {
              "item_id": 3
            }
          ],
          "base_uri": "https://localhost:8080/",
          "height": 67
        },
        "outputId": "2430790d-1047-4766-9ca8-a9f40008e34f",
        "executionInfo": {
          "status": "ok",
          "timestamp": 1519876290039,
          "user_tz": -420,
          "elapsed": 1717,
          "user": {
            "displayName": "Le Thanh",
            "photoUrl": "https://lh3.googleusercontent.com/a/default-user=s128",
            "userId": "101606538408507055417"
          }
        }
      },
      "cell_type": "code",
      "source": [
        "nltk.download(\"wordnet\")"
      ],
      "execution_count": 40,
      "outputs": [
        {
          "output_type": "stream",
          "text": [
            "[nltk_data] Downloading package wordnet to /content/nltk_data...\n",
            "[nltk_data]   Unzipping corpora/wordnet.zip.\n"
          ],
          "name": "stdout"
        },
        {
          "output_type": "execute_result",
          "data": {
            "text/plain": [
              "True"
            ]
          },
          "metadata": {
            "tags": []
          },
          "execution_count": 40
        }
      ]
    },
    {
      "metadata": {
        "id": "ZIfYywkDv6_B",
        "colab_type": "code",
        "colab": {
          "autoexec": {
            "startup": false,
            "wait_interval": 0
          },
          "output_extras": [
            {
              "item_id": 1
            },
            {
              "item_id": 2
            }
          ],
          "base_uri": "https://localhost:8080/",
          "height": 67
        },
        "outputId": "c7aec135-c231-4cd7-a033-4b2f2a732fcd",
        "executionInfo": {
          "status": "ok",
          "timestamp": 1519876248348,
          "user_tz": -420,
          "elapsed": 1017,
          "user": {
            "displayName": "Le Thanh",
            "photoUrl": "https://lh3.googleusercontent.com/a/default-user=s128",
            "userId": "101606538408507055417"
          }
        }
      },
      "cell_type": "code",
      "source": [
        "nltk.download('punkt')\n",
        "\n",
        "nltk.download(\"stopwords\")"
      ],
      "execution_count": 39,
      "outputs": [
        {
          "output_type": "stream",
          "text": [
            "[nltk_data] Downloading package stopwords to /content/nltk_data...\n",
            "[nltk_data]   Package stopwords is already up-to-date!\n"
          ],
          "name": "stdout"
        },
        {
          "output_type": "execute_result",
          "data": {
            "text/plain": [
              "True"
            ]
          },
          "metadata": {
            "tags": []
          },
          "execution_count": 39
        }
      ]
    },
    {
      "metadata": {
        "id": "2z4Q0sK0sJJr",
        "colab_type": "code",
        "colab": {
          "autoexec": {
            "startup": false,
            "wait_interval": 0
          }
        }
      },
      "cell_type": "code",
      "source": [
        "from nltk.corpus import stopwords\n",
        "eng_stopwords = set(stopwords.words(\"english\"))"
      ],
      "execution_count": 0,
      "outputs": []
    },
    {
      "metadata": {
        "id": "EAmOg-UyuxUe",
        "colab_type": "code",
        "colab": {
          "autoexec": {
            "startup": false,
            "wait_interval": 0
          }
        }
      },
      "cell_type": "code",
      "source": [
        "from nltk.stem import WordNetLemmatizer\n",
        "lemm = WordNetLemmatizer()"
      ],
      "execution_count": 0,
      "outputs": []
    },
    {
      "metadata": {
        "id": "ebTPWuNdqgsU",
        "colab_type": "code",
        "colab": {
          "autoexec": {
            "startup": false,
            "wait_interval": 0
          }
        }
      },
      "cell_type": "code",
      "source": [
        "def clean(bio):\n",
        "    \"\"\"\n",
        "    This function receives bio and returns clean word-list\n",
        "    \"\"\"\n",
        "    #Convert to lower case , so that Hi and hi are the same\n",
        "    bio=bio.lower()\n",
        "    #remove \\n\n",
        "    bio=re.sub(\"\\\\n\",\"\",bio)\n",
        "    \n",
        "    #Split the sentences into words\n",
        "    words=tokenizer.tokenize(bio)\n",
        "    \n",
        "    # (')aphostophe  replacement (ie)   you're --> you are  \n",
        "    # ( basic dictionary lookup : master dictionary present in a hidden block of code)\n",
        "    words=[APPO[word] if word in APPO else word for word in words]\n",
        "    words=[lem.lemmatize(word, \"v\") for word in words]\n",
        "    words = [w for w in words if not w in eng_stopwords]\n",
        "    \n",
        "    clean_sent=\" \".join(words)\n",
        "    # remove any non alphanum,digit character\n",
        "    clean_sent=re.sub(\"\\W+\",\" \",clean_sent)\n",
        "    clean_sent=re.sub(\"  \",\" \",clean_sent)\n",
        "    return(clean_sent)"
      ],
      "execution_count": 0,
      "outputs": []
    },
    {
      "metadata": {
        "id": "Hh_fGVbLqgph",
        "colab_type": "code",
        "colab": {
          "autoexec": {
            "startup": false,
            "wait_interval": 0
          },
          "output_extras": [
            {
              "item_id": 1
            }
          ],
          "base_uri": "https://localhost:8080/",
          "height": 54
        },
        "outputId": "efaf7e24-85dd-49f8-c8a1-5115cd645564",
        "executionInfo": {
          "status": "ok",
          "timestamp": 1519877006077,
          "user_tz": -420,
          "elapsed": 829,
          "user": {
            "displayName": "Le Thanh",
            "photoUrl": "https://lh3.googleusercontent.com/a/default-user=s128",
            "userId": "101606538408507055417"
          }
        }
      },
      "cell_type": "code",
      "source": [
        "text.iloc[10]"
      ],
      "execution_count": 51,
      "outputs": [
        {
          "output_type": "execute_result",
          "data": {
            "text/plain": [
              "'sophia violet sophie crumb born september 27 1981 is an americanfrench comics artist she is the daughter of underground comix artists robert crumb and aline kominskycrumbcrumb was born in woodland california and lived in the nearby farming town of winters with her parents until she was nine years old in 1991 she relocated with her family to sauve a village in southern france her parents reported that they wanted to remove her from the political conservatives and christian fundamentalists of the united states in a 2010 interview sophie told the philadelphia inquirer that her mother was afraid sophie would turn into a valley girlit was after this relocation that terry zwigoff released crumb 1994 a critically acclaimed documentary film about sophies father and their family zwigoff later commissioned sophie to prepare some original drawings for inclusion in his 2001 comedydrama ghost world an adaptation of daniel clowes comics serial of the same nameafter completing her secondary education in france crumb studied acrobatics and clowning at a french circus school while living in brooklyn in the mid2000s she sold her comics on the street and apprenticed herself to a tattoo artist at another stage she earned a living by teaching english as a foreign languageshe lives in southern france with her husband a construction worker and their son eli who was born in 2009'"
            ]
          },
          "metadata": {
            "tags": []
          },
          "execution_count": 51
        }
      ]
    },
    {
      "metadata": {
        "id": "2SBWqS_Zo3B0",
        "colab_type": "code",
        "colab": {
          "autoexec": {
            "startup": false,
            "wait_interval": 0
          },
          "output_extras": [
            {
              "item_id": 1
            }
          ],
          "base_uri": "https://localhost:8080/",
          "height": 80
        },
        "outputId": "32eae6f2-7924-489a-f8a7-39f38b4aa7e4",
        "executionInfo": {
          "status": "ok",
          "timestamp": 1519877007793,
          "user_tz": -420,
          "elapsed": 842,
          "user": {
            "displayName": "Le Thanh",
            "photoUrl": "https://lh3.googleusercontent.com/a/default-user=s128",
            "userId": "101606538408507055417"
          }
        }
      },
      "cell_type": "code",
      "source": [
        "clean(text.iloc[10])"
      ],
      "execution_count": 52,
      "outputs": [
        {
          "output_type": "execute_result",
          "data": {
            "text/plain": [
              "'sophia violet sophie crumb bear september 27 1981 americanfrench comics artist daughter underground comix artists robert crumb aline kominskycrumbcrumb bear woodland california live nearby farm town winter parent nine years old 1991 relocate family sauve village southern france parent report want remove political conservatives christian fundamentalists unite state 2010 interview sophie tell philadelphia inquirer mother afraid sophie would turn valley girlit relocation terry zwigoff release crumb 1994 critically acclaim documentary film sophies father family zwigoff later commission sophie prepare original draw inclusion 2001 comedydrama ghost world adaptation daniel clowes comics serial nameafter complete secondary education france crumb study acrobatics clown french circus school live brooklyn mid 2000s sell comics street apprentice tattoo artist another stage earn live teach english foreign languageshe live southern france husband construction worker son eli bear 2009'"
            ]
          },
          "metadata": {
            "tags": []
          },
          "execution_count": 52
        }
      ]
    },
    {
      "metadata": {
        "id": "wB2Paafqo28k",
        "colab_type": "code",
        "colab": {
          "autoexec": {
            "startup": false,
            "wait_interval": 0
          }
        }
      },
      "cell_type": "code",
      "source": [
        "processed_data = [clean(bio) for bio in text]"
      ],
      "execution_count": 0,
      "outputs": []
    },
    {
      "metadata": {
        "id": "ani_pSGDw__w",
        "colab_type": "code",
        "colab": {
          "autoexec": {
            "startup": false,
            "wait_interval": 0
          }
        }
      },
      "cell_type": "code",
      "source": [
        "from sklearn.feature_extraction.text import CountVectorizer"
      ],
      "execution_count": 0,
      "outputs": []
    },
    {
      "metadata": {
        "id": "t6qwYSVVwkrf",
        "colab_type": "code",
        "colab": {
          "autoexec": {
            "startup": false,
            "wait_interval": 0
          }
        }
      },
      "cell_type": "code",
      "source": [
        "lemm = WordNetLemmatizer()\n",
        "class LemmaCountVectorizer(CountVectorizer):\n",
        "    def build_analyzer(self):\n",
        "        analyzer = super(LemmaCountVectorizer, self).build_analyzer()\n",
        "        return lambda doc: (lemm.lemmatize(w) for w in analyzer(doc))"
      ],
      "execution_count": 0,
      "outputs": []
    },
    {
      "metadata": {
        "id": "5ISmlv6_wkoM",
        "colab_type": "code",
        "colab": {
          "autoexec": {
            "startup": false,
            "wait_interval": 0
          }
        }
      },
      "cell_type": "code",
      "source": [
        "tf_vectorizer = LemmaCountVectorizer(max_df=0.95, \n",
        "                                     min_df=2,\n",
        "                                     stop_words='english',\n",
        "                                     decode_error='ignore')\n",
        "tf = tf_vectorizer.fit_transform(processed_data)"
      ],
      "execution_count": 0,
      "outputs": []
    },
    {
      "metadata": {
        "id": "LF5QSQfVwklU",
        "colab_type": "code",
        "colab": {
          "autoexec": {
            "startup": false,
            "wait_interval": 0
          }
        }
      },
      "cell_type": "code",
      "source": [
        "from sklearn.decomposition import LatentDirichletAllocation"
      ],
      "execution_count": 0,
      "outputs": []
    },
    {
      "metadata": {
        "id": "nWDnpyvpwkiT",
        "colab_type": "code",
        "colab": {
          "autoexec": {
            "startup": false,
            "wait_interval": 0
          }
        }
      },
      "cell_type": "code",
      "source": [
        "lda = LatentDirichletAllocation(n_components=30, max_iter=5,\n",
        "                                learning_method = 'online',\n",
        "                                learning_offset = 50.,\n",
        "                                random_state = 0)"
      ],
      "execution_count": 0,
      "outputs": []
    },
    {
      "metadata": {
        "id": "g4NCsQ3jx5nO",
        "colab_type": "code",
        "colab": {
          "autoexec": {
            "startup": false,
            "wait_interval": 0
          },
          "output_extras": [
            {
              "item_id": 1
            }
          ],
          "base_uri": "https://localhost:8080/",
          "height": 134
        },
        "outputId": "d0af5206-8bf3-4de6-b07d-abfb8ccb6dab",
        "executionInfo": {
          "status": "ok",
          "timestamp": 1519878854900,
          "user_tz": -420,
          "elapsed": 991610,
          "user": {
            "displayName": "Le Thanh",
            "photoUrl": "https://lh3.googleusercontent.com/a/default-user=s128",
            "userId": "101606538408507055417"
          }
        }
      },
      "cell_type": "code",
      "source": [
        "lda.fit(tf)"
      ],
      "execution_count": 63,
      "outputs": [
        {
          "output_type": "execute_result",
          "data": {
            "text/plain": [
              "LatentDirichletAllocation(batch_size=128, doc_topic_prior=None,\n",
              "             evaluate_every=-1, learning_decay=0.7,\n",
              "             learning_method='online', learning_offset=50.0,\n",
              "             max_doc_update_iter=100, max_iter=5, mean_change_tol=0.001,\n",
              "             n_components=30, n_jobs=1, n_topics=None, perp_tol=0.1,\n",
              "             random_state=0, topic_word_prior=None,\n",
              "             total_samples=1000000.0, verbose=0)"
            ]
          },
          "metadata": {
            "tags": []
          },
          "execution_count": 63
        }
      ]
    },
    {
      "metadata": {
        "id": "2W6AV_-u19gT",
        "colab_type": "code",
        "colab": {
          "autoexec": {
            "startup": false,
            "wait_interval": 0
          }
        }
      },
      "cell_type": "code",
      "source": [
        "def print_top_words(model, feature_names, n_top_words):\n",
        "    for index, topic in enumerate(model.components_):\n",
        "        message = \"\\nTopic #{}:\".format(index)\n",
        "        message += \" \".join([feature_names[i] for i in topic.argsort()[:-n_top_words - 1 :-1]])\n",
        "        print(message)\n",
        "        print(\"=\"*70)"
      ],
      "execution_count": 0,
      "outputs": []
    },
    {
      "metadata": {
        "id": "uvWaEV3lx5hZ",
        "colab_type": "code",
        "colab": {
          "autoexec": {
            "startup": false,
            "wait_interval": 0
          },
          "output_extras": [
            {
              "item_id": 2
            }
          ],
          "base_uri": "https://localhost:8080/",
          "height": 1576
        },
        "outputId": "75fe7590-9f14-4130-8d55-a69332d90c61",
        "executionInfo": {
          "status": "ok",
          "timestamp": 1519878924425,
          "user_tz": -420,
          "elapsed": 1181,
          "user": {
            "displayName": "Le Thanh",
            "photoUrl": "https://lh3.googleusercontent.com/a/default-user=s128",
            "userId": "101606538408507055417"
          }
        }
      },
      "cell_type": "code",
      "source": [
        "n_top_words = 40\n",
        "print(\"\\nTopics in LDA model: \")\n",
        "tf_feature_names = tf_vectorizer.get_feature_names()\n",
        "print_top_words(lda, tf_feature_names, n_top_words)"
      ],
      "execution_count": 66,
      "outputs": [
        {
          "output_type": "stream",
          "text": [
            "\n",
            "Topics in LDA model: \n",
            "\n",
            "Topic #0:climb expedition dive everest tight explorer cave tibet arctic ascent mountaineer pole climber route balloon buchanan underwater hutton flint diver polar noon patch optioned traverse antarctica extreme mira ridge hodgson attempt romano adventurer crowley altitude trait mcgregor pagan bodybuilding mare\n",
            "======================================================================\n",
            "\n",
            "Topic #1:mexico mexican mathematics mathematical theory ukraine ukrainian costa mathematician holocaust chen problem nazi azerbaijan cuba rica trauma viktor s marxist nicaragua differential soviet pp castillo rojas yiddish dalhousie dutton alvarez akademi haifa baku dp socialism luis lam valle hirsch conjecture\n",
            "======================================================================\n",
            "\n",
            "Topic #2:air force serve army russian military general officer chief command norwegian war commander chess unite service state staff bear operation soviet philippine navy medal moscow russia train deputy mission defense president norway graduate retire naval oslo august corp utah base\n",
            "======================================================================\n",
            "\n",
            "Topic #3:band play record jazz tour guitar rock musician perform album music member guitarist bass group form drum solo join drummer blue release lead musical john player live festival cd project metal feature steve sound trio vocal session leave bassist paul\n",
            "======================================================================\n",
            "\n",
            "Topic #4:el puerto rico san juan en universidad dakota garcia rican castro silva bengal mi para rafael que prez len paso corpus lpez tonga monterrey uae kaplan archer barton reverend lo tornado christi scientology hernandez hernndez por er scholastic internacional guadalajara\n",
            "======================================================================\n",
            "\n",
            "Topic #5:film award role play theatre television series direct production best festival director win drama producer comedy actress tv produce feature appear short stage nominate academy company screen receive debut nomination lead make include acclaim adaptation opera writer golden 2013 2008\n",
            "======================================================================\n",
            "\n",
            "Topic #6:german germany astronomy galaxy schmidt observatory astronomical karl cosmic asteroid astronomer universe telescope discover astrophysics xray cosmology saturn supernova romani bernhard crawley infrared observation tata reese geophysics reunification nazi object lott gresham ore microscope parameter irrigation riff hubble gdr observational\n",
            "======================================================================\n",
            "\n",
            "Topic #7:jewish rabbi jew shaw orthodox religious israel yeshiva judaism congregation beth synagogue lange orbit savannah concordia torah rabbinical religion reza coupe ordain prayer mcdowell congolese cambridgeshire freire jacobsen villeneuve goo sabrina selma marxism snowy serra mena rabbinic mccord uncommon poulsen\n",
            "======================================================================\n",
            "\n",
            "Topic #8:court right judge state charge police law say case unite report sentence year prison government claim arrest justice war human trial people pakistan appeal criminal release crime murder supreme political time attack iraq death later investigation security order convict month\n",
            "======================================================================\n",
            "\n",
            "Topic #9:work new bear include year write time american live radio know book york appear star make begin school magazine television city story later life series child world news career actor host award best family feature writer act program john publish\n",
            "======================================================================\n",
            "\n",
            "Topic #10:university research work professor science school director serve study award international member american college national institute board president receive include state degree development department society new program law business association company year education book technology center public graduate teach bear\n",
            "======================================================================\n",
            "\n",
            "Topic #11:nelson estonian gibson mo estonia griffith deaf bartlett techno cent sunset rey tallinn steele reyes trance dirk phantom calcutta swami gangster bihar serrano gujarat maher syed abel tong module mccann avant kirsten nut nora mu mendoza mcbride pia mutant gilberto\n",
            "======================================================================\n",
            "\n",
            "Topic #12:lisbon portugal bingham transformer johnnie convener chao nfc witchcraft coxless reincarnation lisboa kruse edmunds linn tec hoofdklasse europaea boyz geopolitical camelot technologyin bannister alhaji twoday bauchi tarantino yorke satan altar hatcher holley alcorn niklas sokoto salter rangel geriatric sokol muhammadu\n",
            "======================================================================\n",
            "\n",
            "Topic #13:music orchestra opera perform study composer symphony india festival indian piano include record concert performance composition conductor chamber international conduct musical classical competition ensemble school director national new award university philharmonic hall bear work prize year conservatory state sing pianist\n",
            "======================================================================\n",
            "\n",
            "Topic #14:win world championship australian team year finish time tour bear title medal australia place second champion event national compete record best final olympics sport professional 2008 olympic open gold european woman international round cup game summer miss sydney 2010 tournament\n",
            "======================================================================\n",
            "\n",
            "Topic #15:anchor croatian romanian yugoslavia serbian zagreb belgrade croatia serbia bosnia slovenia bird icelandic iceland sarajevo powell newscast kosovo yugoslav herzegovina squash bosnian macedonia pm montenegro sudan zhang balkan sportsman war fence albanian lao ivan european compliance coanchor sad cyrillic station\n",
            "======================================================================\n",
            "\n",
            "Topic #16:art work book publish artist new museum design bear study include la international york french collection paint award poetry university gallery write prize exhibition contemporary paris france literature italian writer city literary project english culture poet create history teach world\n",
            "======================================================================\n",
            "\n",
            "Topic #17:zealand new st organ cathedral archbishop auckland anglican wellington holy church christ organist england jesus rector tanzania rwanda mori durham drift novi salisbury gospel te primate telugu dar shankar paul albans plasma synod trinity papa priesthood rite monmouth 1999he harbour\n",
            "======================================================================\n",
            "\n",
            "Topic #18:album music record release song artist single singer hit produce sing producer debut label feature chart perform video musical know include award studio number solo dance track career pop dj best group songwriter bear love country year sign sound grammy\n",
            "======================================================================\n",
            "\n",
            "Topic #19:watanabe sant recherche roh creed towson inuit prometheus marius laramie griffey pashto winona ossetian odisha kelsey babu fremont jasmine marietta tait biden bryson mildred nihon aceh giddings tcu melanoma mohr lazy stave subeditor moyer hilde outfitter ic carruthers faberg hematology\n",
            "======================================================================\n",
            "\n",
            "Topic #20:martial simpson vermont solomon hoffman programmer curl skip ufc sleep aikido gracie marcos shapiro mma commodore chaplin weight oracle harrow wise pike communal frazier viii turk rink propulsion supplier hale jiujitsu sinai unix constraint detachment ultrasound neurosurgery spence curler infect\n",
            "======================================================================\n",
            "\n",
            "Topic #21:british london bbc uk royal ireland irish college scottish scotland wale english northern oxford queen dublin lord john sir cambridge educate edinburgh appoint programme honour manchester centre glasgow king county kingdom david service european join west belfast peter follow son\n",
            "======================================================================\n",
            "\n",
            "Topic #22:church israel catholic religion israeli theology priest seminary roman study theological jerusalem hebrew pastor faith bible god archaeology ancient tel aviv rome divinity christianity biblical archaeological testament torres sacred archaeologist wooden lyon excavation linux evangelist commentary merton scripture bethlehem appel\n",
            "======================================================================\n",
            "\n",
            "Topic #23:party serve member election state minister elect president bear committee government general district house appoint council politician national vote new leader political candidate democratic seat secretary senate law city office parliament governor representative republican assembly term run county chairman mayor\n",
            "======================================================================\n",
            "\n",
            "Topic #24:play season league game team coach football player year club career bear make win sign score professional baseball cup major goal join start national draft time run school basketball end record final return appearance university spend manager high new debut\n",
            "======================================================================\n",
            "\n",
            "Topic #25:lewis karate bulletin jennings abbott corn telecast apostle cantor olson mir cam sioux portable brant teresa paleontology bhutto angelesbased zine cityhe comrade sensei allegheny mcguire liver torrance livermore kara deliberate ec 2009on ola oakley gladstone lowry clough martial bravery glazer\n",
            "======================================================================\n",
            "\n",
            "Topic #26:race kentucky horse poker win ride rider jockey rid stake trainer hall cash derby winner fame limit train thoroughbred series wsop earn motocross ama handicap event belmont breeder motorcycle winning min factory track stable knoxville induct roland hutchinson million total\n",
            "======================================================================\n",
            "\n",
            "Topic #27:race car team series driver win drive finish formula championship brazil brazilian ford argentina season start grand prix rally year carlos argentine class portuguese colombia motor le compete sport man point paulo return jos del nascar 24 hour santiago luis\n",
            "======================================================================\n",
            "\n",
            "Topic #28:greek turkish turkey greece athens istanbul armenian cyprus armenia sofia european thessaloniki raf slovak ankara eli hellenic yerevan epstein cypriot inquirer bratislava tsn blogging valentino balkan netball samara lau jk relocation panathinaikos christensen canadahe schroeder meyers etcin au vidal doan\n",
            "======================================================================\n",
            "\n",
            "Topic #29:tamil reynolds maastricht stark mainz abe okinawa fay skeleton gerard contradiction nrc tar holman maier ayres philbrick ong belinda molina melodifestivalen msu excellency tr harman lindberg roc knapp och keele latham lazard kikuchi ichiro protector pim gorky csc jn shimbun\n",
            "======================================================================\n"
          ],
          "name": "stdout"
        }
      ]
    },
    {
      "metadata": {
        "id": "l7yDQQo2x5es",
        "colab_type": "code",
        "colab": {
          "autoexec": {
            "startup": false,
            "wait_interval": 0
          }
        }
      },
      "cell_type": "code",
      "source": [
        "topic_predict =  lda.transform(tf)"
      ],
      "execution_count": 0,
      "outputs": []
    },
    {
      "metadata": {
        "id": "GQUi01zrx5b4",
        "colab_type": "code",
        "colab": {
          "autoexec": {
            "startup": false,
            "wait_interval": 0
          },
          "output_extras": [
            {
              "item_id": 1
            }
          ],
          "base_uri": "https://localhost:8080/",
          "height": 34
        },
        "outputId": "1f3366b2-c797-415b-c5ab-10aff88cb24d",
        "executionInfo": {
          "status": "ok",
          "timestamp": 1519879620167,
          "user_tz": -420,
          "elapsed": 824,
          "user": {
            "displayName": "Le Thanh",
            "photoUrl": "https://lh3.googleusercontent.com/a/default-user=s128",
            "userId": "101606538408507055417"
          }
        }
      },
      "cell_type": "code",
      "source": [
        "topic_predict.shape"
      ],
      "execution_count": 71,
      "outputs": [
        {
          "output_type": "execute_result",
          "data": {
            "text/plain": [
              "(59071, 30)"
            ]
          },
          "metadata": {
            "tags": []
          },
          "execution_count": 71
        }
      ]
    },
    {
      "metadata": {
        "id": "7EysnxH_5Qks",
        "colab_type": "text"
      },
      "cell_type": "markdown",
      "source": [
        "Now each bio can be represented as a vector x where x_i is the score of this bio in the i_th topic"
      ]
    },
    {
      "metadata": {
        "id": "PRs6DmCY5Pwx",
        "colab_type": "code",
        "colab": {
          "autoexec": {
            "startup": false,
            "wait_interval": 0
          }
        }
      },
      "cell_type": "code",
      "source": [
        "def Euclid_distance(x,y):   \n",
        "  return np.sqrt(np.sum((x-y)**2))"
      ],
      "execution_count": 0,
      "outputs": []
    },
    {
      "metadata": {
        "id": "EfxFMNvD5082",
        "colab_type": "code",
        "colab": {
          "autoexec": {
            "startup": false,
            "wait_interval": 0
          },
          "output_extras": [
            {
              "item_id": 1
            }
          ],
          "base_uri": "https://localhost:8080/",
          "height": 34
        },
        "outputId": "d723cbb7-bea9-415d-b313-c22df99f1c76",
        "executionInfo": {
          "status": "ok",
          "timestamp": 1519884075606,
          "user_tz": -420,
          "elapsed": 834,
          "user": {
            "displayName": "Le Thanh",
            "photoUrl": "https://lh3.googleusercontent.com/a/default-user=s128",
            "userId": "101606538408507055417"
          }
        }
      },
      "cell_type": "code",
      "source": [
        "Euclid_distance(topic_predict[0],topic_predict[1])"
      ],
      "execution_count": 81,
      "outputs": [
        {
          "output_type": "execute_result",
          "data": {
            "text/plain": [
              "0.8925211548109863"
            ]
          },
          "metadata": {
            "tags": []
          },
          "execution_count": 81
        }
      ]
    },
    {
      "metadata": {
        "id": "cW7yUVXXFKP2",
        "colab_type": "code",
        "colab": {
          "autoexec": {
            "startup": false,
            "wait_interval": 0
          }
        }
      },
      "cell_type": "code",
      "source": [
        "from numpy.linalg import norm"
      ],
      "execution_count": 0,
      "outputs": []
    },
    {
      "metadata": {
        "id": "6sLzSkw0504B",
        "colab_type": "code",
        "colab": {
          "autoexec": {
            "startup": false,
            "wait_interval": 0
          }
        }
      },
      "cell_type": "code",
      "source": [
        "def cosine_sim(x,y):\n",
        "  return np.dot(x,y)/(norm(x) * norm(y))"
      ],
      "execution_count": 0,
      "outputs": []
    },
    {
      "metadata": {
        "id": "r6gmXxbVNkq-",
        "colab_type": "text"
      },
      "cell_type": "markdown",
      "source": [
        "The resulting similarity ranges from −1 meaning exactly opposite, to 1 meaning exactly the same, with 0 indicating orthogonality (decorrelation), and in-between values indicating intermediate similarity or dissimilarity."
      ]
    },
    {
      "metadata": {
        "id": "iG6rP_zHGod4",
        "colab_type": "code",
        "colab": {
          "autoexec": {
            "startup": false,
            "wait_interval": 0
          },
          "output_extras": [
            {
              "item_id": 1
            }
          ],
          "base_uri": "https://localhost:8080/",
          "height": 34
        },
        "outputId": "471b712d-ac7d-4a22-c08c-684d62ae2a92",
        "executionInfo": {
          "status": "ok",
          "timestamp": 1519884080288,
          "user_tz": -420,
          "elapsed": 819,
          "user": {
            "displayName": "Le Thanh",
            "photoUrl": "https://lh3.googleusercontent.com/a/default-user=s128",
            "userId": "101606538408507055417"
          }
        }
      },
      "cell_type": "code",
      "source": [
        "cosine_sim(topic_predict[0],topic_predict[1]) #not so relate"
      ],
      "execution_count": 84,
      "outputs": [
        {
          "output_type": "execute_result",
          "data": {
            "text/plain": [
              "0.024959630481331093"
            ]
          },
          "metadata": {
            "tags": []
          },
          "execution_count": 84
        }
      ]
    },
    {
      "metadata": {
        "id": "eV0fJ3NRyBrp",
        "colab_type": "code",
        "colab": {
          "autoexec": {
            "startup": false,
            "wait_interval": 0
          },
          "output_extras": [
            {
              "item_id": 1
            }
          ],
          "base_uri": "https://localhost:8080/",
          "height": 34
        },
        "outputId": "c321e67b-c38d-406d-dbb9-6e2ea5b26a4a",
        "executionInfo": {
          "status": "ok",
          "timestamp": 1519884333487,
          "user_tz": -420,
          "elapsed": 880,
          "user": {
            "displayName": "Le Thanh",
            "photoUrl": "https://lh3.googleusercontent.com/a/default-user=s128",
            "userId": "101606538408507055417"
          }
        }
      },
      "cell_type": "code",
      "source": [
        "raw_data.index[raw_data['name'] == 'Olari Elts'][0]\n",
        "    "
      ],
      "execution_count": 88,
      "outputs": [
        {
          "output_type": "execute_result",
          "data": {
            "text/plain": [
              "59066"
            ]
          },
          "metadata": {
            "tags": []
          },
          "execution_count": 88
        }
      ]
    },
    {
      "metadata": {
        "id": "24NcvQ1tKavJ",
        "colab_type": "code",
        "colab": {
          "autoexec": {
            "startup": false,
            "wait_interval": 0
          },
          "output_extras": [
            {
              "item_id": 1
            }
          ],
          "base_uri": "https://localhost:8080/",
          "height": 151
        },
        "outputId": "e330e0f7-50d7-4717-8e1e-0e57fa5cb860",
        "executionInfo": {
          "status": "ok",
          "timestamp": 1519884353972,
          "user_tz": -420,
          "elapsed": 932,
          "user": {
            "displayName": "Le Thanh",
            "photoUrl": "https://lh3.googleusercontent.com/a/default-user=s128",
            "userId": "101606538408507055417"
          }
        }
      },
      "cell_type": "code",
      "source": [
        "topic_predict[raw_data.index[raw_data['name'] == 'Olari Elts'][0]]"
      ],
      "execution_count": 89,
      "outputs": [
        {
          "output_type": "execute_result",
          "data": {
            "text/plain": [
              "array([2.25225225e-04, 2.25225225e-04, 1.27832868e-02, 7.67253740e-03,\n",
              "       6.98198198e-03, 2.25225225e-04, 2.25225225e-04, 2.25225225e-04,\n",
              "       2.25225225e-04, 4.49918217e-02, 1.81558201e-02, 4.75225225e-02,\n",
              "       2.25225225e-04, 6.44252260e-01, 5.50364116e-02, 2.25225225e-04,\n",
              "       7.46688131e-02, 1.51694472e-02, 2.25225225e-04, 2.25225225e-04,\n",
              "       2.25225225e-04, 2.25225225e-04, 2.25225225e-04, 2.25225225e-04,\n",
              "       6.84858185e-02, 2.25225225e-04, 2.25225225e-04, 2.25225225e-04,\n",
              "       2.25225225e-04, 2.25225225e-04])"
            ]
          },
          "metadata": {
            "tags": []
          },
          "execution_count": 89
        }
      ]
    },
    {
      "metadata": {
        "id": "QMWU0C7XKr3B",
        "colab_type": "code",
        "colab": {
          "autoexec": {
            "startup": false,
            "wait_interval": 0
          }
        }
      },
      "cell_type": "code",
      "source": [
        "def distance(name1, name2, func='Euclid'):\n",
        "  index_1 = raw_data.index[raw_data['name'] == name1][0]\n",
        "  index_2 = raw_data.index[raw_data['name'] == name2][0]\n",
        "  if(func == 'Euclid'):\n",
        "    return Euclid_distance(topic_predict[index_1],topic_predict[index_2])\n",
        "  if(func == 'Cosine'):\n",
        "    return cosine_sim(topic_predict[index_1],topic_predict[index_2])\n",
        "    "
      ],
      "execution_count": 0,
      "outputs": []
    },
    {
      "metadata": {
        "id": "lWKyL6L5LSlv",
        "colab_type": "code",
        "colab": {
          "autoexec": {
            "startup": false,
            "wait_interval": 0
          },
          "output_extras": [
            {
              "item_id": 1
            }
          ],
          "base_uri": "https://localhost:8080/",
          "height": 34
        },
        "outputId": "1967b57f-e359-443a-e3ed-82974c1698b1",
        "executionInfo": {
          "status": "ok",
          "timestamp": 1519884542490,
          "user_tz": -420,
          "elapsed": 810,
          "user": {
            "displayName": "Le Thanh",
            "photoUrl": "https://lh3.googleusercontent.com/a/default-user=s128",
            "userId": "101606538408507055417"
          }
        }
      },
      "cell_type": "code",
      "source": [
        "distance('Digby Morrell','Alfred J. Lewy')"
      ],
      "execution_count": 91,
      "outputs": [
        {
          "output_type": "execute_result",
          "data": {
            "text/plain": [
              "0.8925211548109863"
            ]
          },
          "metadata": {
            "tags": []
          },
          "execution_count": 91
        }
      ]
    },
    {
      "metadata": {
        "id": "jUW3yWZaLZ6W",
        "colab_type": "code",
        "colab": {
          "autoexec": {
            "startup": false,
            "wait_interval": 0
          },
          "output_extras": [
            {
              "item_id": 1
            }
          ],
          "base_uri": "https://localhost:8080/",
          "height": 34
        },
        "outputId": "cd6af087-ce2d-418e-b0e2-9c975f370fe3",
        "executionInfo": {
          "status": "ok",
          "timestamp": 1519884555595,
          "user_tz": -420,
          "elapsed": 769,
          "user": {
            "displayName": "Le Thanh",
            "photoUrl": "https://lh3.googleusercontent.com/a/default-user=s128",
            "userId": "101606538408507055417"
          }
        }
      },
      "cell_type": "code",
      "source": [
        "distance('Digby Morrell','Alfred J. Lewy',func='Cosine')"
      ],
      "execution_count": 92,
      "outputs": [
        {
          "output_type": "execute_result",
          "data": {
            "text/plain": [
              "0.024959630481331093"
            ]
          },
          "metadata": {
            "tags": []
          },
          "execution_count": 92
        }
      ]
    },
    {
      "metadata": {
        "id": "abdt3kUxLdH3",
        "colab_type": "code",
        "colab": {
          "autoexec": {
            "startup": false,
            "wait_interval": 0
          },
          "output_extras": [
            {
              "item_id": 1
            }
          ],
          "base_uri": "https://localhost:8080/",
          "height": 34
        },
        "outputId": "d624314d-bea2-4e0d-d35b-f82914f9d304",
        "executionInfo": {
          "status": "ok",
          "timestamp": 1519887049186,
          "user_tz": -420,
          "elapsed": 861,
          "user": {
            "displayName": "Le Thanh",
            "photoUrl": "https://lh3.googleusercontent.com/a/default-user=s128",
            "userId": "101606538408507055417"
          }
        }
      },
      "cell_type": "code",
      "source": [
        "distance('Barack Obama', 'Joe Biden', func='Cosine')\n"
      ],
      "execution_count": 97,
      "outputs": [
        {
          "output_type": "execute_result",
          "data": {
            "text/plain": [
              "0.9765742246108191"
            ]
          },
          "metadata": {
            "tags": []
          },
          "execution_count": 97
        }
      ]
    },
    {
      "metadata": {
        "id": "JE7PaIISllnu",
        "colab_type": "code",
        "colab": {
          "autoexec": {
            "startup": false,
            "wait_interval": 0
          }
        }
      },
      "cell_type": "code",
      "source": [
        "import time"
      ],
      "execution_count": 0,
      "outputs": []
    },
    {
      "metadata": {
        "id": "MXXKvlTLMZpj",
        "colab_type": "code",
        "colab": {
          "autoexec": {
            "startup": false,
            "wait_interval": 0
          }
        }
      },
      "cell_type": "code",
      "source": [
        "def recommend(name,k,func=None):\n",
        "  start_time = time.time()\n",
        "  print(k,' recommendation indices for ',name)\n",
        "  person_index = raw_data.index[raw_data['name'] == name][0]\n",
        "  # calculate distance of person with all other \n",
        "  all_dist = []\n",
        "  for other in raw_data['name']:\n",
        "    if other != name:\n",
        "      if func=='Cosine' :\n",
        "        all_dist.append(distance(name,other,func)) # the bigger cosine sim values, the more similar -> 1/cosine value\n",
        "      else :\n",
        "        all_dist.append(1/distance(name,other)) # the smaller distance, the more similar\n",
        "  # Get recommend list\n",
        "  result = np.array(all_dist)\n",
        "  recommend_index = result.argsort()[-k:][::-1] \n",
        "  print(\"Execute in %s seconds\" % (time.time() - start_time))\n",
        "  return recommend_index"
      ],
      "execution_count": 0,
      "outputs": []
    },
    {
      "metadata": {
        "id": "gBHzuQ2cdxmN",
        "colab_type": "code",
        "colab": {
          "autoexec": {
            "startup": false,
            "wait_interval": 0
          },
          "output_extras": [
            {
              "item_id": 2
            }
          ],
          "base_uri": "https://localhost:8080/",
          "height": 50
        },
        "outputId": "d6160103-acb6-4b9a-c091-edf626638865",
        "executionInfo": {
          "status": "ok",
          "timestamp": 1519892565846,
          "user_tz": -420,
          "elapsed": 533691,
          "user": {
            "displayName": "Le Thanh",
            "photoUrl": "https://lh3.googleusercontent.com/a/default-user=s128",
            "userId": "101606538408507055417"
          }
        }
      },
      "cell_type": "code",
      "source": [
        "A = recommend('Digby Morrell',10,func='Cosine')"
      ],
      "execution_count": 118,
      "outputs": [
        {
          "output_type": "stream",
          "text": [
            "10  recommendation indices for  Digby Morrell\n",
            "Execute in 532.3217799663544 seconds\n"
          ],
          "name": "stdout"
        }
      ]
    },
    {
      "metadata": {
        "id": "L6LuLiMvjzc_",
        "colab_type": "code",
        "colab": {
          "autoexec": {
            "startup": false,
            "wait_interval": 0
          },
          "output_extras": [
            {
              "item_id": 1
            }
          ],
          "base_uri": "https://localhost:8080/",
          "height": 201
        },
        "outputId": "e4369004-3045-4ffe-85f4-71acedf34d26",
        "executionInfo": {
          "status": "ok",
          "timestamp": 1519892568269,
          "user_tz": -420,
          "elapsed": 948,
          "user": {
            "displayName": "Le Thanh",
            "photoUrl": "https://lh3.googleusercontent.com/a/default-user=s128",
            "userId": "101606538408507055417"
          }
        }
      },
      "cell_type": "code",
      "source": [
        "raw_data.loc[A].name"
      ],
      "execution_count": 120,
      "outputs": [
        {
          "output_type": "execute_result",
          "data": {
            "text/plain": [
              "23915    Geoffrey Edwards (Canada)\n",
              "17109             Carolyn Merchant\n",
              "20080                 Keiji Hirose\n",
              "41688                  Tom Whitman\n",
              "7597      Derek Holland (activist)\n",
              "10396              Herv%C3%A9 This\n",
              "46261                Vince DiFiore\n",
              "30710                     Rod Owen\n",
              "32442               Mauro Prosperi\n",
              "45653                     Alan Old\n",
              "Name: name, dtype: object"
            ]
          },
          "metadata": {
            "tags": []
          },
          "execution_count": 120
        }
      ]
    },
    {
      "metadata": {
        "id": "WJuKhxResYvX",
        "colab_type": "code",
        "colab": {
          "autoexec": {
            "startup": false,
            "wait_interval": 0
          }
        }
      },
      "cell_type": "code",
      "source": [
        "def plot_recommendation(name,recommendation_indices):\n",
        "  # first plot the data of input\n",
        "  person_index = raw_data.index[raw_data['name'] == name][0]\n",
        "  person_vector = topic_predict[person_index]\n",
        "  plt.figure()\n",
        "  plt.title('Vector of '+name)\n",
        "  plt.bar(range(len(person_vector)), person_vector, align='center')\n",
        "  for i in range(len(recommendation_indices)):\n",
        "    index = recommendation_indices[i]\n",
        "    person_vector = topic_predict[index]\n",
        "    plt.figure()\n",
        "    person_vector = topic_predict[index]\n",
        "    plt.title('Recommendation #'+str(i+1) +\": \"+ raw_data.name[index])\n",
        "    plt.bar(range(len(person_vector)), person_vector, align='center')\n",
        "    "
      ],
      "execution_count": 0,
      "outputs": []
    },
    {
      "metadata": {
        "id": "QslvPv0VsYtZ",
        "colab_type": "code",
        "colab": {
          "autoexec": {
            "startup": false,
            "wait_interval": 0
          },
          "output_extras": [
            {
              "item_id": 1
            },
            {
              "item_id": 2
            },
            {
              "item_id": 3
            },
            {
              "item_id": 4
            },
            {
              "item_id": 5
            },
            {
              "item_id": 6
            },
            {
              "item_id": 7
            },
            {
              "item_id": 8
            },
            {
              "item_id": 9
            },
            {
              "item_id": 10
            },
            {
              "item_id": 11
            }
          ],
          "base_uri": "https://localhost:8080/",
          "height": 3809
        },
        "outputId": "6e8fa172-c3cb-4e0a-9c1c-96ba0f2530e1",
        "executionInfo": {
          "status": "ok",
          "timestamp": 1519893758678,
          "user_tz": -420,
          "elapsed": 3398,
          "user": {
            "displayName": "Le Thanh",
            "photoUrl": "https://lh3.googleusercontent.com/a/default-user=s128",
            "userId": "101606538408507055417"
          }
        }
      },
      "cell_type": "code",
      "source": [
        "plot_recommendation('Digby Morrell',A)"
      ],
      "execution_count": 140,
      "outputs": [
        {
          "output_type": "display_data",
          "data": {
            "image/png": "[encoded data removed]",
            "text/plain": [
              "<matplotlib.figure.Figure at 0x7fc56788f0b8>"
            ]
          },
          "metadata": {
            "tags": []
          }
        },
        {
          "output_type": "display_data",
          "data": {
            "image/png": "[encoded data removed]",
            "text/plain": [
              "<matplotlib.figure.Figure at 0x7fc567849048>"
            ]
          },
          "metadata": {
            "tags": []
          }
        },
        {
          "output_type": "display_data",
          "data": {
            "image/png": "[encoded data removed]",
            "text/plain": [
              "<matplotlib.figure.Figure at 0x7fc5674c0dd8>"
            ]
          },
          "metadata": {
            "tags": []
          }
        },
        {
          "output_type": "display_data",
          "data": {
            "image/png": "[encoded data removed]",
            "text/plain": [
              "<matplotlib.figure.Figure at 0x7fc5673c07b8>"
            ]
          },
          "metadata": {
            "tags": []
          }
        },
        {
          "output_type": "display_data",
          "data": {
            "image/png": "[encoded data removed]",
            "text/plain": [
              "<matplotlib.figure.Figure at 0x7fc567303710>"
            ]
          },
          "metadata": {
            "tags": []
          }
        },
        {
          "output_type": "display_data",
          "data": {
            "image/png": "[encoded data removed]",
            "text/plain": [
              "<matplotlib.figure.Figure at 0x7fc566ff1c88>"
            ]
          },
          "metadata": {
            "tags": []
          }
        },
        {
          "output_type": "display_data",
          "data": {
            "image/png": "[encoded data removed]",
            "text/plain": [
              "<matplotlib.figure.Figure at 0x7fc566f73a58>"
            ]
          },
          "metadata": {
            "tags": []
          }
        },
        {
          "output_type": "display_data",
          "data": {
            "image/png": "[encoded data removed]",
            "text/plain": [
              "<matplotlib.figure.Figure at 0x7fc566fc6be0>"
            ]
          },
          "metadata": {
            "tags": []
          }
        },
        {
          "output_type": "display_data",
          "data": {
            "image/png": "[encoded data removed]",
            "text/plain": [
              "<matplotlib.figure.Figure at 0x7fc566e7a048>"
            ]
          },
          "metadata": {
            "tags": []
          }
        },
        {
          "output_type": "display_data",
          "data": {
            "image/png": "[encoded data removed]",
            "text/plain": [
              "<matplotlib.figure.Figure at 0x7fc566df57b8>"
            ]
          },
          "metadata": {
            "tags": []
          }
        },
        {
          "output_type": "display_data",
          "data": {
            "image/png": "[encoded data removed]",
            "text/plain": [
              "<matplotlib.figure.Figure at 0x7fc5665fc3c8>"
            ]
          },
          "metadata": {
            "tags": []
          }
        }
      ]
    },
    {
      "metadata": {
        "id": "KeNg0J5ZrxXX",
        "colab_type": "code",
        "colab": {
          "autoexec": {
            "startup": false,
            "wait_interval": 0
          }
        }
      },
      "cell_type": "code",
      "source": [
        ""
      ],
      "execution_count": 0,
      "outputs": []
    }
  ]
}