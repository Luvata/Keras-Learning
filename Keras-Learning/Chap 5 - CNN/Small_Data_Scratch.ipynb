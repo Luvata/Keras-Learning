{
 "cells": [
  {
   "cell_type": "markdown",
   "metadata": {},
   "source": [
    "## 5.2 Training 1 convnet từ đầu với 1 data set nhỏ "
   ]
  },
  {
   "cell_type": "markdown",
   "metadata": {},
   "source": [
    "(tl;dr : notebook này ta sẽ train 1 convnet từ đầu với cats & dog data set, notebook sau sẽ train & fine tuning với model VGG16)\n",
    "\n",
    "---\n",
    "Trong computer vision, bài toán train 1 model phân loại ảnh với lượng data set nhỏ rất phổ biến. Ở đây, \"nhỏ\" là từ vài trăm - vài nghìn ảnh. Ta sẽ thực hành bài toán **phân loại chó - mèo**, với 1 data set có 4000 ảnh ( 2000 chó & 2000 mèo). Ta sẽ chia data thành 3 phần : train model với 2000 ảnh, validation 1000 ảnh và test 1000 ảnh . "
   ]
  },
  {
   "cell_type": "markdown",
   "metadata": {},
   "source": [
    "Trong mục này, ta sẽ train model từ đầu, bắt đầu với 2000 samples, không sử dụng regularization, độ chính xác của model sau khi train sẽ ~70%. Sau đó ta sẽ học cách sử dụng **data augmentation** --> một kỹ thuật rất mạnh và phổ biến giúp giảm over fitting trong bài toán computer vision. Với **data augmentation**, độ chính xác model sẽ tăng lên ~78%"
   ]
  },
  {
   "cell_type": "markdown",
   "metadata": {},
   "source": [
    "Mục tiếp theo, ta sẽ thực hành 2 kỹ thuật quan trọng áp dụng trong bài toán deep learning với data set nhỏ : sử dụng trích xuất thuộc tính ( **feature extraction**) với 1 network đã train ( model thu được sẽ có độ chính xác ~90% - 93 %), và **fine-tuning** 1 network đã train (acc ~95%). 3 kĩ năng trên sẽ là các công cụ quan trọng giúp bạn làm các bài toán computer vision sau này."
   ]
  },
  {
   "cell_type": "markdown",
   "metadata": {},
   "source": [
    "### 5.2.1 Bài toán với lượng data nhỏ trong deep learning\n",
    "Bạn có thể sẽ nghĩ rằnng deep learning chỉ hoạt động khi ta có lượng data lớn. Điều này đúng vì 1 đặc điểm quan trọgn của deep learning là model có thể tự tìm ra các thuộc tính quan trọng trong quá trình train mà không cần đến các bước feature-engineering thủ công, nhưng điều đó chỉ có thể làm được khi lượng data lớn, và càng cần thiết hơn trong bài toán khi input là ảnh ."
   ]
  },
  {
   "cell_type": "markdown",
   "metadata": {},
   "source": [
    "Tuy vậy, 1 yếu tố nữa cũng quan trọng như số samples, đó là độ lớn và sâu của network. Vì convnet học các thuộc tính bao quát và không đổi ( local & translation-invariant features), nó sẽ không cần quá nhiều data cho bài toán nhận diện thuộc tính. Ta có thể xây dựng và train 1 convnet từ đầu, nhưng kết quả cũng không thực sự tốt do thiếu data. --> (notebook này)\n",
    "\n",
    "Nhưng hơn thế nữa, deep learning models thường được sử dụng với nhiều mục đích. Bạn có thể dùng 1 model chuyển giọng nói thành chữ đã đựợc train với tập data lớn, sau đó tái sử dụng trong bài toán khác với chỉ 1 vài thay đổi nhỏ. Đặc biệt, trong bài toán computer vision, nhiều pretrained-models ( thường được train với [ImageNet dataset](http://www.image-net.org/)) ta có thể download và khởi tạo 1 model mạnh chỉ với rất ít data. Đó là điều ta sẽ thực hành trong mục tiếp theo."
   ]
  },
  {
   "cell_type": "markdown",
   "metadata": {},
   "source": [
    "### 5.2.2 Download data"
   ]
  },
  {
   "cell_type": "markdown",
   "metadata": {},
   "source": [
    "Tập data cats vs. dogs được sử dụng trong 1 cuộc thi trên Kaggle vào năm 2013, khi convnet chưa thực sự phổ biến. [Link download](https://www.kaggle.com/c/dogs-vs-cats/data), bạn cần lập 1 account để tải. "
   ]
  },
  {
   "cell_type": "markdown",
   "metadata": {},
   "source": [
    "Không bất ngờ, người chiến thắng của cuộc thi đã sử dụng convnet với acc 95%. Ta cũng có được 1 model với độ chính xác tuơng đương dù lượng data chỉ bằng 1/10 ( chương sau). Dataset ban đầu có 25000 ảnh, với 12500 ảnh mỗi loại, và nặng 543 mb ( đã nén). Sau khi download & giải nén, ta sẽ tạo 1 data set mới gồm 3 phần : tập training( 1000 ảnh mỗi loại), validation (500 ảnh mỗi loài), và test (500 ảnh mỗi loại)."
   ]
  },
  {
   "cell_type": "code",
   "execution_count": 1,
   "metadata": {},
   "outputs": [],
   "source": [
    "import os, shutil"
   ]
  },
  {
   "cell_type": "code",
   "execution_count": 2,
   "metadata": {},
   "outputs": [
    {
     "name": "stdout",
     "output_type": "stream",
     "text": [
      "cat.png\t\t\t\t\t   Max_Pooling.ipynb\r\n",
      "cnn.png\t\t\t\t\t   train\r\n",
      "Convolutional_operation.ipynb\t\t   train.zip\r\n",
      "Introduction_CNN_with_MNIST_example.ipynb  Untitled.ipynb\r\n"
     ]
    }
   ],
   "source": [
    "!ls"
   ]
  },
  {
   "cell_type": "code",
   "execution_count": 3,
   "metadata": {},
   "outputs": [],
   "source": [
    "# folder chứa data đã giải nén\n",
    "original_dir = '/home/thanh/Keras-Learning/Chap5-CNN/train'\n",
    "# folder chứa 4000 ảnh gồm train(2000),valid(1000)và test(1000)\n",
    "base_dir = '/home/thanh/Keras-Learning/Chap5-CNN/small'\n",
    "os.mkdir(base_dir)"
   ]
  },
  {
   "cell_type": "code",
   "execution_count": 4,
   "metadata": {},
   "outputs": [],
   "source": [
    "train_dir = os.path.join(base_dir,'train')\n",
    "os.mkdir(train_dir)\n",
    "validation_dir = os.path.join(base_dir,'validation')\n",
    "os.mkdir(validation_dir)\n",
    "test_dir = os.path.join(base_dir,'test')\n",
    "os.mkdir(test_dir)"
   ]
  },
  {
   "cell_type": "code",
   "execution_count": 5,
   "metadata": {},
   "outputs": [],
   "source": [
    "# folder train gồm 2 sub folder : cats và dogs\n",
    "train_cats_dir = os.path.join(train_dir,'cats')\n",
    "os.mkdir(train_cats_dir)\n",
    "train_dogs_dir = os.path.join(train_dir,'dogs')\n",
    "os.mkdir(train_dogs_dir)"
   ]
  },
  {
   "cell_type": "code",
   "execution_count": 6,
   "metadata": {},
   "outputs": [],
   "source": [
    "# tương tự với folder validation & test\n",
    "validation_cats_dir = os.path.join(validation_dir,'cats')\n",
    "os.mkdir(validation_cats_dir)\n",
    "validation_dogs_dir = os.path.join(validation_dir,'dogs')\n",
    "os.mkdir(validation_dogs_dir)\n",
    "\n",
    "test_cats_dir = os.path.join(test_dir,'cats')\n",
    "os.mkdir(test_cats_dir)\n",
    "test_dogs_dir = os.path.join(test_dir,'dogs')\n",
    "os.mkdir(test_dogs_dir)"
   ]
  },
  {
   "cell_type": "code",
   "execution_count": 8,
   "metadata": {},
   "outputs": [],
   "source": [
    "# copy 1000 ảnh cat vào train_cats_dir\n",
    "fnames = ['cat.{}.jpg'.format(i) for i in range(1000)]\n",
    "for filename in fnames:\n",
    "    src = os.path.join(original_dir,filename)\n",
    "    dst = os.path.join(train_cats_dir,filename)\n",
    "    shutil.copyfile(src,dst)"
   ]
  },
  {
   "cell_type": "code",
   "execution_count": 9,
   "metadata": {},
   "outputs": [],
   "source": [
    "# copy 500 ảnh cat tiếp theo vào validation_cats_dir\n",
    "fnames = ['cat.{}.jpg'.format(i) for i in range(1000,1500)]\n",
    "for filename in fnames:\n",
    "    src = os.path.join(original_dir,filename)\n",
    "    dst = os.path.join(validation_cats_dir,filename)\n",
    "    shutil.copyfile(src,dst)"
   ]
  },
  {
   "cell_type": "code",
   "execution_count": 10,
   "metadata": {},
   "outputs": [],
   "source": [
    "# copy 500 ảnh test :\n",
    "fnames = ['cat.{}.jpg'.format(i) for i in range(1500,2000)]\n",
    "for filename in fnames:\n",
    "    src = os.path.join(original_dir,filename)\n",
    "    dst = os.path.join(test_cats_dir,filename)\n",
    "    shutil.copyfile(src,dst)"
   ]
  },
  {
   "cell_type": "code",
   "execution_count": 11,
   "metadata": {},
   "outputs": [],
   "source": [
    "# tương tự với dogs :\n",
    "fnames = ['dog.{}.jpg'.format(i) for i in range(1000)]\n",
    "for filename in fnames:\n",
    "    src = os.path.join(original_dir,filename)\n",
    "    dst = os.path.join(train_dogs_dir,filename)\n",
    "    shutil.copyfile(src,dst)\n",
    "\n",
    "fnames = ['dog.{}.jpg'.format(i) for i in range(1000,1500)]\n",
    "for filename in fnames:\n",
    "    src = os.path.join(original_dir,filename)\n",
    "    dst = os.path.join(validation_dogs_dir,filename)\n",
    "    shutil.copyfile(src,dst)\n",
    "    \n",
    "fnames = ['dog.{}.jpg'.format(i) for i in range(1500,2000)]\n",
    "for filename in fnames:\n",
    "    src = os.path.join(original_dir,filename)\n",
    "    dst = os.path.join(test_dogs_dir,filename)\n",
    "    shutil.copyfile(src,dst)"
   ]
  },
  {
   "cell_type": "code",
   "execution_count": 12,
   "metadata": {},
   "outputs": [],
   "source": [
    "# check lại nào \n",
    "def count(folder_name):\n",
    "    print('total images in ',folder_name,': ',\n",
    "          len(os.listdir(folder_name)))"
   ]
  },
  {
   "cell_type": "code",
   "execution_count": 21,
   "metadata": {},
   "outputs": [
    {
     "name": "stdout",
     "output_type": "stream",
     "text": [
      "total images in  /home/thanh/Keras-Learning/Chap5-CNN/small/train/cats :  1000\n",
      "total images in  /home/thanh/Keras-Learning/Chap5-CNN/small/train/dogs :  1000\n",
      "total images in  /home/thanh/Keras-Learning/Chap5-CNN/small/validation/cats :  500\n",
      "total images in  /home/thanh/Keras-Learning/Chap5-CNN/small/validation/dogs :  500\n",
      "total images in  /home/thanh/Keras-Learning/Chap5-CNN/small/test/cats :  500\n",
      "total images in  /home/thanh/Keras-Learning/Chap5-CNN/small/test/dogs :  500\n"
     ]
    }
   ],
   "source": [
    "count(train_cats_dir)\n",
    "\n",
    "count(train_dogs_dir)\n",
    "\n",
    "count(validation_cats_dir)\n",
    "\n",
    "count(validation_dogs_dir)\n",
    "\n",
    "count(test_cats_dir)\n",
    "\n",
    "count(test_dogs_dir)\n",
    "\n"
   ]
  },
  {
   "cell_type": "markdown",
   "metadata": {},
   "source": [
    "Ta đã có 2000 ảnh train, 1000 ảnh validation và 1000 ảnh test. Số lượng ảnh của 2 class là bằng nhau --> Sử dụng accuracy "
   ]
  },
  {
   "cell_type": "markdown",
   "metadata": {},
   "source": [
    "### 5.2.3 Xây dựng network"
   ]
  },
  {
   "cell_type": "markdown",
   "metadata": {},
   "source": [
    "Network của chúng ta sẽ có cấu trúc tương tự ví dụ MNIST trước đó : stack của các Conv2D layers và MaxPooling2D layers.\n",
    "\n",
    "Tuy vậy, bài toán này phức tạp hơn MNIST với các ảnh lớn hơn, ta sẽ tạo 1 network phù hợp : Network sẽ có nhiều Conv2D + MaxPooling2D hơn. Điều này giúp network hoạt động tốt hơn, cũng như giảm số lượng feature maps trước Flatten layer ( giúp network không quá lớn ). Ở đây, ta bắt đầu với input là ảnh với size khoảng 150x150 , và kết thúc với feature map size 7x7 ( ngay trước Flatten layer)\n",
    "\n",
    "Lưu ý rằng độ sâu của feature maps dần dần tăng (từ 32 lên 128), trong khi size của feature maps giảm dần (từ 148x148 xuống 7x7). Đây là khuôn mẫu bạn sẽ gặp trong hầu hết các convnets.\n",
    "\n",
    "Do chúng ta đang làm bài toán binary classification, ta sẽ kết thúc network với 1 con số ( 1 Dense layer với size = 1) và sigmoid activation. Con số này sẽ tượng trưng cho sự lựa chọn class của network"
   ]
  },
  {
   "cell_type": "code",
   "execution_count": 22,
   "metadata": {},
   "outputs": [],
   "source": [
    "from keras import layers\n",
    "from keras import models"
   ]
  },
  {
   "cell_type": "code",
   "execution_count": 23,
   "metadata": {},
   "outputs": [],
   "source": [
    "model = models.Sequential()\n",
    "model.add(layers.Conv2D(32,(3,3), activation='relu',\n",
    "                       input_shape=(150,150,3)))\n",
    "model.add(layers.MaxPooling2D((2,2)))\n",
    "model.add(layers.Conv2D(64, (3,3), activation='relu'))\n",
    "model.add(layers.MaxPooling2D((2,2)))\n",
    "model.add(layers.Conv2D(128, (3,3), activation='relu'))\n",
    "model.add(layers.MaxPooling2D((2,2)))\n",
    "model.add(layers.Conv2D(128, (3,3), activation='relu'))\n",
    "model.add(layers.MaxPooling2D((2,2)))\n",
    "model.add(layers.Flatten())\n",
    "model.add(layers.Dense(512, activation='relu'))\n",
    "model.add(layers.Dense(1,activation='sigmoid'))"
   ]
  },
  {
   "cell_type": "code",
   "execution_count": 24,
   "metadata": {},
   "outputs": [
    {
     "name": "stdout",
     "output_type": "stream",
     "text": [
      "_________________________________________________________________\n",
      "Layer (type)                 Output Shape              Param #   \n",
      "=================================================================\n",
      "conv2d_1 (Conv2D)            (None, 148, 148, 32)      896       \n",
      "_________________________________________________________________\n",
      "max_pooling2d_1 (MaxPooling2 (None, 74, 74, 32)        0         \n",
      "_________________________________________________________________\n",
      "conv2d_2 (Conv2D)            (None, 72, 72, 64)        18496     \n",
      "_________________________________________________________________\n",
      "max_pooling2d_2 (MaxPooling2 (None, 36, 36, 64)        0         \n",
      "_________________________________________________________________\n",
      "conv2d_3 (Conv2D)            (None, 34, 34, 128)       73856     \n",
      "_________________________________________________________________\n",
      "max_pooling2d_3 (MaxPooling2 (None, 17, 17, 128)       0         \n",
      "_________________________________________________________________\n",
      "conv2d_4 (Conv2D)            (None, 15, 15, 128)       147584    \n",
      "_________________________________________________________________\n",
      "max_pooling2d_4 (MaxPooling2 (None, 7, 7, 128)         0         \n",
      "_________________________________________________________________\n",
      "flatten_1 (Flatten)          (None, 6272)              0         \n",
      "_________________________________________________________________\n",
      "dense_1 (Dense)              (None, 512)               3211776   \n",
      "_________________________________________________________________\n",
      "dense_2 (Dense)              (None, 1)                 513       \n",
      "=================================================================\n",
      "Total params: 3,453,121\n",
      "Trainable params: 3,453,121\n",
      "Non-trainable params: 0\n",
      "_________________________________________________________________\n"
     ]
    }
   ],
   "source": [
    "model.summary()"
   ]
  },
  {
   "cell_type": "markdown",
   "metadata": {},
   "source": [
    "Trong bước compilation, ta sẽ sử dụng RMSprop optimizers như thường lệ. Vì network kết thúc = 1 con số ( sigmoid ), ta sẽ sử dụng binary cross entropy loss function."
   ]
  },
  {
   "cell_type": "code",
   "execution_count": 25,
   "metadata": {},
   "outputs": [],
   "source": [
    "from keras import optimizers\n",
    "model.compile(optimizer=optimizers.RMSprop(lr=1e-4),\n",
    "             loss='binary_crossentropy',\n",
    "             metrics=['acc'])"
   ]
  },
  {
   "cell_type": "markdown",
   "metadata": {},
   "source": [
    "### Data preprocessing\n",
    "Như bạn đã biết, data nên được format về dạng tensor (floating point) phù hợp trước khi đưa vào network. Hiện tại, data của chúng ta đang ở dạng JPEG, ta cần phải làm các bước sau :\n",
    "- Đọc file ảnh\n",
    "- Giải mã ảnh JPEG sang những ô pixel vuông RBG\n",
    "- Chuyển đổi các giá trị trên sang dạng floating point tensor\n",
    "- Rescale giá trị các pixel (từ 0-255) về khoảng [0,1] (Neural Network hoạt động tốt hơn với các giá trị input nhỏ )\n",
    "\n",
    "Nó khá là rắc rối, tuy vậy Keras đã có sẵn hàm xử lý bước này : Đó là 1 module giúp xử lý ảnh, nằm trong gói keras.preprocessing.image. Trong đó, nó chứa class ImageDataGenerator giúp ta dễ dàng thiết lập Python tự động chuyển các ảnh trong ổ cứng vào batches của các tensors."
   ]
  },
  {
   "cell_type": "code",
   "execution_count": 26,
   "metadata": {},
   "outputs": [],
   "source": [
    "from keras.preprocessing.image import ImageDataGenerator"
   ]
  },
  {
   "cell_type": "code",
   "execution_count": 27,
   "metadata": {},
   "outputs": [],
   "source": [
    "# Các ảnh sẽ được scale \n",
    "train_datagen = ImageDataGenerator(rescale=1./255) \n",
    "test_datagen = ImageDataGenerator(rescale=1./255)"
   ]
  },
  {
   "cell_type": "code",
   "execution_count": 31,
   "metadata": {},
   "outputs": [
    {
     "name": "stdout",
     "output_type": "stream",
     "text": [
      "Found 2000 images belonging to 2 classes.\n",
      "Found 1000 images belonging to 2 classes.\n"
     ]
    }
   ],
   "source": [
    "train_generator = train_datagen.flow_from_directory(\n",
    "        # This is the target directory\n",
    "        train_dir,\n",
    "        # All images will be resized to 150x150\n",
    "        target_size=(150, 150),\n",
    "        batch_size=32,\n",
    "        # Since we use binary_crossentropy loss, we need binary labels\n",
    "        class_mode='binary')\n",
    "\n",
    "validation_generator = test_datagen.flow_from_directory(\n",
    "        validation_dir,\n",
    "        target_size=(150, 150),\n",
    "        batch_size=32,\n",
    "        class_mode='binary')"
   ]
  },
  {
   "cell_type": "code",
   "execution_count": 32,
   "metadata": {},
   "outputs": [
    {
     "name": "stdout",
     "output_type": "stream",
     "text": [
      "data_batch: (32, 150, 150, 3)\n",
      "labels_batch : (32,)\n"
     ]
    }
   ],
   "source": [
    "for data_batch, labels_batch in train_generator:\n",
    "    print('data_batch:', data_batch.shape)\n",
    "    print('labels_batch :',labels_batch.shape)\n",
    "    break # chỉ xem thông tin trong 1 batch "
   ]
  },
  {
   "cell_type": "markdown",
   "metadata": {},
   "source": [
    "Output của các generator : Generator tạo 32 ảnh 150x150 RGB với nhau (shape(32,150,150,3)) tương ứng với 32 binary labels (shape (32,)). 32 là số samples trong mỗi batch (batch_size). \n",
    "**Lưu ý** : ta sử dụng break ở trên vì các batch được gen ra liên tục từ số ảnh trong ổ folder"
   ]
  },
  {
   "cell_type": "markdown",
   "metadata": {},
   "source": [
    "Fit model với data sử dụng generator bằng method : \n",
    "**fit_generator** - một method tương tự fit **sử dụng với generators**.\n",
    "Ta cũng có thể truyền vào fit_generator 1 argument là **validation_data**, và argument này cho phép **sử dụng generator** cũng như **tuple của Numpy array**. Nếu bạn truyền generator vào validation_data, generator này sẽ không ngừng tạo các batch validation, vậy nên ta phải **chỉ rõ validation_steps** argument."
   ]
  },
  {
   "cell_type": "code",
   "execution_count": 33,
   "metadata": {},
   "outputs": [
    {
     "name": "stdout",
     "output_type": "stream",
     "text": [
      "Epoch 1/30\n",
      "100/100 [==============================] - 69s - loss: 0.6801 - acc: 0.5506 - val_loss: 0.6505 - val_acc: 0.6231\n",
      "Epoch 2/30\n",
      "100/100 [==============================] - 50s - loss: 0.6298 - acc: 0.6478 - val_loss: 0.6261 - val_acc: 0.6501\n",
      "Epoch 3/30\n",
      "100/100 [==============================] - 49s - loss: 0.5708 - acc: 0.7072 - val_loss: 0.6161 - val_acc: 0.6682\n",
      "Epoch 4/30\n",
      "100/100 [==============================] - 49s - loss: 0.5238 - acc: 0.7316 - val_loss: 0.5703 - val_acc: 0.6881\n",
      "Epoch 5/30\n",
      "100/100 [==============================] - 49s - loss: 0.4911 - acc: 0.7634 - val_loss: 0.5627 - val_acc: 0.6997\n",
      "Epoch 6/30\n",
      "100/100 [==============================] - 49s - loss: 0.4559 - acc: 0.7941 - val_loss: 0.6370 - val_acc: 0.6713\n",
      "Epoch 7/30\n",
      "100/100 [==============================] - 49s - loss: 0.4192 - acc: 0.8094 - val_loss: 0.5501 - val_acc: 0.7113\n",
      "Epoch 8/30\n",
      "100/100 [==============================] - 49s - loss: 0.3926 - acc: 0.8316 - val_loss: 0.5797 - val_acc: 0.7094\n",
      "Epoch 9/30\n",
      "100/100 [==============================] - 49s - loss: 0.3524 - acc: 0.8469 - val_loss: 0.6420 - val_acc: 0.6992\n",
      "Epoch 10/30\n",
      "100/100 [==============================] - 49s - loss: 0.3434 - acc: 0.8522 - val_loss: 0.6662 - val_acc: 0.6972\n",
      "Epoch 11/30\n",
      "100/100 [==============================] - 49s - loss: 0.3041 - acc: 0.8781 - val_loss: 0.5545 - val_acc: 0.7236\n",
      "Epoch 12/30\n",
      "100/100 [==============================] - 49s - loss: 0.2734 - acc: 0.8881 - val_loss: 0.6059 - val_acc: 0.7178\n",
      "Epoch 13/30\n",
      "100/100 [==============================] - 49s - loss: 0.2426 - acc: 0.9066 - val_loss: 0.5937 - val_acc: 0.7262\n",
      "Epoch 14/30\n",
      "100/100 [==============================] - 49s - loss: 0.2189 - acc: 0.9162 - val_loss: 0.6309 - val_acc: 0.7221\n",
      "Epoch 15/30\n",
      "100/100 [==============================] - 49s - loss: 0.1895 - acc: 0.9284 - val_loss: 0.6273 - val_acc: 0.7386\n",
      "Epoch 16/30\n",
      "100/100 [==============================] - 49s - loss: 0.1692 - acc: 0.9463 - val_loss: 0.7144 - val_acc: 0.7310\n",
      "Epoch 17/30\n",
      "100/100 [==============================] - 49s - loss: 0.1475 - acc: 0.9516 - val_loss: 0.6807 - val_acc: 0.7272\n",
      "Epoch 18/30\n",
      "100/100 [==============================] - 49s - loss: 0.1232 - acc: 0.9666 - val_loss: 0.7950 - val_acc: 0.7178\n",
      "Epoch 19/30\n",
      "100/100 [==============================] - 49s - loss: 0.1052 - acc: 0.9703 - val_loss: 0.8107 - val_acc: 0.7223\n",
      "Epoch 20/30\n",
      "100/100 [==============================] - 49s - loss: 0.0888 - acc: 0.9756 - val_loss: 0.8559 - val_acc: 0.7120\n",
      "Epoch 21/30\n",
      "100/100 [==============================] - 49s - loss: 0.0719 - acc: 0.9822 - val_loss: 0.8379 - val_acc: 0.7062\n",
      "Epoch 22/30\n",
      "100/100 [==============================] - 49s - loss: 0.0606 - acc: 0.9878 - val_loss: 0.8289 - val_acc: 0.7360\n",
      "Epoch 23/30\n",
      "100/100 [==============================] - 49s - loss: 0.0487 - acc: 0.9888 - val_loss: 0.9695 - val_acc: 0.7253\n",
      "Epoch 24/30\n",
      "100/100 [==============================] - 49s - loss: 0.0454 - acc: 0.9884 - val_loss: 0.8734 - val_acc: 0.7443\n",
      "Epoch 25/30\n",
      "100/100 [==============================] - 49s - loss: 0.0329 - acc: 0.9925 - val_loss: 1.0058 - val_acc: 0.7329\n",
      "Epoch 26/30\n",
      "100/100 [==============================] - 50s - loss: 0.0284 - acc: 0.9941 - val_loss: 1.0607 - val_acc: 0.7378\n",
      "Epoch 27/30\n",
      "100/100 [==============================] - 50s - loss: 0.0276 - acc: 0.9925 - val_loss: 1.3019 - val_acc: 0.6927\n",
      "Epoch 28/30\n",
      "100/100 [==============================] - 49s - loss: 0.0214 - acc: 0.9962 - val_loss: 1.0893 - val_acc: 0.7365\n",
      "Epoch 29/30\n",
      "100/100 [==============================] - 50s - loss: 0.0234 - acc: 0.9937 - val_loss: 1.1083 - val_acc: 0.7390\n",
      "Epoch 30/30\n",
      "100/100 [==============================] - 50s - loss: 0.0196 - acc: 0.9944 - val_loss: 1.1548 - val_acc: 0.7379\n"
     ]
    }
   ],
   "source": [
    "history = model.fit_generator(\n",
    "    train_generator,\n",
    "    steps_per_epoch=100,\n",
    "    epochs=30,\n",
    "    validation_data=validation_generator,\n",
    "    validation_steps=50)"
   ]
  },
  {
   "cell_type": "code",
   "execution_count": 34,
   "metadata": {},
   "outputs": [],
   "source": [
    "model.save('cats_and_dogs_small_1.h5')"
   ]
  },
  {
   "cell_type": "code",
   "execution_count": 35,
   "metadata": {},
   "outputs": [],
   "source": [
    "import matplotlib.pyplot as plt\n",
    "\n",
    "acc = history.history['acc']\n",
    "val_acc = history.history['val_acc']\n",
    "loss = history.history['loss']\n",
    "val_loss = history.history['val_loss']\n",
    "epochs = range(len(acc))"
   ]
  },
  {
   "cell_type": "code",
   "execution_count": 36,
   "metadata": {},
   "outputs": [
    {
     "data": {
      "image/png": "[encoded data removed]",
      "text/plain": [
       "<matplotlib.figure.Figure at 0x7f64781bff28>"
      ]
     },
     "metadata": {},
     "output_type": "display_data"
    },
    {
     "data": {
      "image/png": "[encoded data removed]",
      "text/plain": [
       "<matplotlib.figure.Figure at 0x7f64781f6c88>"
      ]
     },
     "metadata": {},
     "output_type": "display_data"
    }
   ],
   "source": [
    "plt.plot(epochs, acc, 'bo')\n",
    "plt.plot(epochs, val_acc,'b')\n",
    "plt.title('Traing & validation accuracy')\n",
    "\n",
    "plt.figure()\n",
    "\n",
    "plt.plot(epochs, loss, 'bo')\n",
    "plt.plot(epochs, val_loss,'b')\n",
    "plt.title('Traing & validation loss')\n",
    "\n",
    "plt.show()"
   ]
  },
  {
   "cell_type": "markdown",
   "metadata": {},
   "source": [
    "Qua plot ta thấy những đặc điểm của overfitting. Training accuracy tăng liên tục theo thời gian ( ~100%), trong khi validation accuracy chỉ giao động xung quanh 70%. Validation loss chạm min chỉ sau 4 epoch đầu rồi tăng dần. \n",
    "\n",
    "Bởi vì giới hạn của tập training (2000 ảnh), over fitting là vấn đề cần quan tâm nhất. Một số phương pháp phổ biến để giảm đỡ over fitting mà ta đã học là drop out và weight decay ( L2 regularization). Trong mục tiếp theo, ta sẽ giới thiệu một phương pháp mới, đặc biệt cho bài toán computer vision và được áp dụng trong bước xử lý ảnh : **data augmentation** "
   ]
  },
  {
   "cell_type": "code",
   "execution_count": null,
   "metadata": {},
   "outputs": [],
   "source": []
  }
 ],
 "metadata": {
  "kernelspec": {
   "display_name": "Python 3",
   "language": "python",
   "name": "python3"
  },
  "language_info": {
   "codemirror_mode": {
    "name": "ipython",
    "version": 3
   },
   "file_extension": ".py",
   "mimetype": "text/x-python",
   "name": "python",
   "nbconvert_exporter": "python",
   "pygments_lexer": "ipython3",
   "version": "3.5.2"
  }
 },
 "nbformat": 4,
 "nbformat_minor": 2
}
