{
 "cells": [
  {
   "cell_type": "markdown",
   "metadata": {},
   "source": [
    "# Phép toán với Tensor"
   ]
  },
  {
   "cell_type": "markdown",
   "metadata": {},
   "source": [
    "## Element Wise"
   ]
  },
  {
   "cell_type": "code",
   "execution_count": 1,
   "metadata": {},
   "outputs": [],
   "source": [
    "import numpy as np"
   ]
  },
  {
   "cell_type": "code",
   "execution_count": 2,
   "metadata": {},
   "outputs": [],
   "source": [
    "x = np.array([[-2,3],[-4,5]])\n",
    "y = np.array([[1,2],[3,4]])"
   ]
  },
  {
   "cell_type": "code",
   "execution_count": 3,
   "metadata": {},
   "outputs": [
    {
     "name": "stdout",
     "output_type": "stream",
     "text": [
      "x + y = \n",
      " [[-1  5]\n",
      " [-1  9]]\n",
      "shape of z :  (2, 2)\n",
      "[[0 5]\n",
      " [0 9]]\n"
     ]
    }
   ],
   "source": [
    "# element-wise :\n",
    "print(\"x + y = \\n\",x+y)\n",
    "# element-wise relu :\n",
    "z = x+y\n",
    "z = np.maximum(z, 0)\n",
    "\n",
    "print(\"shape of z : \",z.shape)\n",
    "print(z)"
   ]
  },
  {
   "cell_type": "markdown",
   "metadata": {},
   "source": [
    "## Broadcasting \n",
    "Khi ta thực hiện phép cộng 2D tensor với 1 vector? what'll happend ?"
   ]
  },
  {
   "cell_type": "code",
   "execution_count": 4,
   "metadata": {},
   "outputs": [],
   "source": [
    "# cong vector mxn voi vector n*1\n",
    "a = np.array([[1,2,3],[4,5,6]])\n",
    "b = np.array([2,6,12])"
   ]
  },
  {
   "cell_type": "code",
   "execution_count": 5,
   "metadata": {},
   "outputs": [
    {
     "name": "stdout",
     "output_type": "stream",
     "text": [
      "(2, 3)\n",
      "1\n"
     ]
    }
   ],
   "source": [
    "print(a.shape)\n",
    "print(len(b.shape))"
   ]
  },
  {
   "cell_type": "code",
   "execution_count": 6,
   "metadata": {},
   "outputs": [
    {
     "name": "stdout",
     "output_type": "stream",
     "text": [
      "a = \n",
      " [[1 2 3]\n",
      " [4 5 6]]\n",
      "b = \n",
      " [ 2  6 12]\n",
      "a+b = \n",
      " [[ 3  8 15]\n",
      " [ 6 11 18]]\n"
     ]
    }
   ],
   "source": [
    "print(\"a = \\n\",a)\n",
    "print(\"b = \\n\",b)\n",
    "print(\"a+b = \\n\",a+b)"
   ]
  },
  {
   "cell_type": "markdown",
   "metadata": {},
   "source": [
    "### Hình dung broadcasting với 2D tensor và vector :\n",
    "vector b (1x3) sẽ được lặp lại n = 2 lần rồi thực hiện element-wise \n",
    "với tensor a (2 x 3)\n",
    "\n",
    "### Broadcasting sẽ thực hiện khi : \n",
    "tensor lớn : có shape (a,b,...n,n+1,...m) </br>\n",
    "tensor nhỏ : có shape (n,n+1,...m) </br>"
   ]
  },
  {
   "cell_type": "markdown",
   "metadata": {},
   "source": [
    "## Phép nhân ma trận ( dot )\n",
    "Trong numpy, element-wise nhân dùng dấu * </br>\n",
    "Còn nhân ma trận, ta dùng .dot"
   ]
  },
  {
   "cell_type": "code",
   "execution_count": 7,
   "metadata": {},
   "outputs": [
    {
     "data": {
      "text/plain": [
       "array([[36],\n",
       "       [78]])"
      ]
     },
     "execution_count": 7,
     "metadata": {},
     "output_type": "execute_result"
    }
   ],
   "source": [
    "a = np.array([[1,2,3],[4,5,6]])\n",
    "b = np.array([[1],[4],[9]])\n",
    "a.dot(b)"
   ]
  },
  {
   "cell_type": "code",
   "execution_count": 8,
   "metadata": {},
   "outputs": [],
   "source": [
    "def matrix_dot(x,y):\n",
    "    assert len(x.shape) == 2\n",
    "    assert len(y.shape) == 2\n",
    "    assert x.shape[1] == y.shape[0] # dam bao mxn dot nxl\n",
    "    z = np.zeros([x.shape[0],y.shape[1]])\n",
    "    for i in range(x.shape[0]):\n",
    "        for j in range(y.shape[1]):\n",
    "            z[i,j] = x[i,:].dot(y[:,j]) #worked\n",
    "            # z[i,j] = np.sum(x[i,:] * y[:,j].T) #worked\n",
    "            \n",
    "    z = z.astype(int)\n",
    "    return z"
   ]
  },
  {
   "cell_type": "code",
   "execution_count": 9,
   "metadata": {},
   "outputs": [
    {
     "data": {
      "text/plain": [
       "array([[36],\n",
       "       [78]])"
      ]
     },
     "execution_count": 9,
     "metadata": {},
     "output_type": "execute_result"
    }
   ],
   "source": [
    "matrix_dot(a,b)"
   ]
  },
  {
   "cell_type": "markdown",
   "metadata": {},
   "source": [
    "### Nhân tensor với dim > 2 \n",
    "Tuân theo quy tắc : </br>\n",
    "(a, b, c, d) . (d, ) -> (a,b,c) </br>\n",
    "(a, b, c, d) . (d,e) -> (a,b,c,e)"
   ]
  },
  {
   "cell_type": "markdown",
   "metadata": {},
   "source": [
    "## Reshape\n"
   ]
  },
  {
   "cell_type": "code",
   "execution_count": 10,
   "metadata": {},
   "outputs": [],
   "source": [
    "# Cac gia tri khong thay doi, chi thay doi shape \n",
    "x = np.array([[0,1],\n",
    "             [2,3],\n",
    "             [4,5]])"
   ]
  },
  {
   "cell_type": "code",
   "execution_count": 11,
   "metadata": {},
   "outputs": [
    {
     "name": "stdout",
     "output_type": "stream",
     "text": [
      "[0 1 2 3 4 5]\n"
     ]
    }
   ],
   "source": [
    "a = np.reshape(x,6) # hoac a = x.reshape((6,1))\n",
    "print(a)"
   ]
  },
  {
   "cell_type": "code",
   "execution_count": 12,
   "metadata": {},
   "outputs": [
    {
     "name": "stdout",
     "output_type": "stream",
     "text": [
      "[[0 1 2]\n",
      " [3 4 5]]\n"
     ]
    }
   ],
   "source": [
    "b = np.reshape(x,[2,3]) # hoac b = x.reshape((2,3))\n",
    "print(b)"
   ]
  },
  {
   "cell_type": "markdown",
   "metadata": {},
   "source": [
    "### Transpose "
   ]
  },
  {
   "cell_type": "code",
   "execution_count": 13,
   "metadata": {},
   "outputs": [
    {
     "name": "stdout",
     "output_type": "stream",
     "text": [
      "[[0 2 4]\n",
      " [1 3 5]]\n"
     ]
    }
   ],
   "source": [
    "x = x.T # hoac x = np.transpose(x)\n",
    "print(x)"
   ]
  },
  {
   "cell_type": "code",
   "execution_count": null,
   "metadata": {},
   "outputs": [],
   "source": []
  }
 ],
 "metadata": {
  "kernelspec": {
   "display_name": "Python 3",
   "language": "python",
   "name": "python3"
  },
  "language_info": {
   "codemirror_mode": {
    "name": "ipython",
    "version": 3
   },
   "file_extension": ".py",
   "mimetype": "text/x-python",
   "name": "python",
   "nbconvert_exporter": "python",
   "pygments_lexer": "ipython3",
   "version": "3.5.2"
  }
 },
 "nbformat": 4,
 "nbformat_minor": 2
}
