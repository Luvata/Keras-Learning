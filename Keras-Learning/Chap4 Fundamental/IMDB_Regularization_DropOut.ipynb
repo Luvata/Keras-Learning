{
 "cells": [
  {
   "cell_type": "code",
   "execution_count": 1,
   "metadata": {},
   "outputs": [
    {
     "name": "stderr",
     "output_type": "stream",
     "text": [
      "Using TensorFlow backend.\n"
     ]
    }
   ],
   "source": [
    "from keras.datasets import imdb"
   ]
  },
  {
   "cell_type": "code",
   "execution_count": 2,
   "metadata": {},
   "outputs": [],
   "source": [
    "(train_data,train_labels), (test_data,test_labels) = imdb.load_data(num_words=10000)"
   ]
  },
  {
   "cell_type": "code",
   "execution_count": 3,
   "metadata": {},
   "outputs": [],
   "source": [
    "import numpy as np\n",
    "def vectorized_sequences(sequences, dim=10000):\n",
    "    # tạo ma trận 0 shape len(seq),dim\n",
    "    results = np.zeros((len(sequences),dim))\n",
    "    for i, sequence in enumerate(sequences):\n",
    "        # đánh dấu index của result[i] sang 1\n",
    "        # print(i, sequence)\n",
    "        results[i, sequence] = 1\n",
    "    return results"
   ]
  },
  {
   "cell_type": "code",
   "execution_count": 4,
   "metadata": {},
   "outputs": [],
   "source": [
    "# Prepare data\n",
    "x_train = vectorized_sequences(train_data)\n",
    "x_test = vectorized_sequences(test_data)\n",
    "\n",
    "y_train = np.asarray(train_labels, dtype='float32')\n",
    "y_test = np.asarray(test_labels,dtype='float32')\n",
    "\n",
    "x_val = x_train[:10000]\n",
    "partial_x_train = x_train[10000:]\n",
    "\n",
    "y_val = y_train[:10000]\n",
    "partial_y_train = y_train[10000:]"
   ]
  },
  {
   "cell_type": "code",
   "execution_count": 5,
   "metadata": {},
   "outputs": [],
   "source": [
    "from keras import models, layers"
   ]
  },
  {
   "cell_type": "code",
   "execution_count": 6,
   "metadata": {},
   "outputs": [],
   "source": [
    "# Normal model\n",
    "normal_model = models.Sequential()\n",
    "normal_model.add(layers.Dense(16,activation='relu',input_shape=(10000,)))\n",
    "normal_model.add(layers.Dense(16,activation='relu'))\n",
    "normal_model.add(layers.Dense(1,activation='sigmoid'))\n",
    "normal_model.compile(optimizer='rmsprop',\n",
    "              loss='binary_crossentropy',\n",
    "              metrics=['accuracy'])"
   ]
  },
  {
   "cell_type": "code",
   "execution_count": 7,
   "metadata": {},
   "outputs": [
    {
     "name": "stdout",
     "output_type": "stream",
     "text": [
      "Train on 15000 samples, validate on 10000 samples\n",
      "Epoch 1/20\n",
      "15000/15000 [==============================] - 3s - loss: 0.5157 - acc: 0.7895 - val_loss: 0.4009 - val_acc: 0.8653\n",
      "Epoch 2/20\n",
      "15000/15000 [==============================] - 2s - loss: 0.3146 - acc: 0.9029 - val_loss: 0.3247 - val_acc: 0.8787\n",
      "Epoch 3/20\n",
      "15000/15000 [==============================] - 2s - loss: 0.2319 - acc: 0.9246 - val_loss: 0.2808 - val_acc: 0.8923\n",
      "Epoch 4/20\n",
      "15000/15000 [==============================] - 2s - loss: 0.1816 - acc: 0.9430 - val_loss: 0.2729 - val_acc: 0.8905\n",
      "Epoch 5/20\n",
      "15000/15000 [==============================] - 2s - loss: 0.1495 - acc: 0.9513 - val_loss: 0.2780 - val_acc: 0.8891\n",
      "Epoch 6/20\n",
      "15000/15000 [==============================] - 2s - loss: 0.1209 - acc: 0.9631 - val_loss: 0.3221 - val_acc: 0.8807\n",
      "Epoch 7/20\n",
      "15000/15000 [==============================] - 2s - loss: 0.1031 - acc: 0.9692 - val_loss: 0.3045 - val_acc: 0.8848\n",
      "Epoch 8/20\n",
      "15000/15000 [==============================] - 2s - loss: 0.0847 - acc: 0.9759 - val_loss: 0.3366 - val_acc: 0.8773\n",
      "Epoch 9/20\n",
      "15000/15000 [==============================] - 2s - loss: 0.0728 - acc: 0.9806 - val_loss: 0.3593 - val_acc: 0.8802\n",
      "Epoch 10/20\n",
      "15000/15000 [==============================] - 2s - loss: 0.0582 - acc: 0.9859 - val_loss: 0.3728 - val_acc: 0.8804\n",
      "Epoch 11/20\n",
      "15000/15000 [==============================] - 2s - loss: 0.0491 - acc: 0.9885 - val_loss: 0.3981 - val_acc: 0.8782\n",
      "Epoch 12/20\n",
      "15000/15000 [==============================] - 2s - loss: 0.0388 - acc: 0.9919 - val_loss: 0.4392 - val_acc: 0.8777\n",
      "Epoch 13/20\n",
      "15000/15000 [==============================] - 2s - loss: 0.0302 - acc: 0.9943 - val_loss: 0.4528 - val_acc: 0.8743\n",
      "Epoch 14/20\n",
      "15000/15000 [==============================] - 2s - loss: 0.0245 - acc: 0.9956 - val_loss: 0.4799 - val_acc: 0.8731\n",
      "Epoch 15/20\n",
      "15000/15000 [==============================] - 3s - loss: 0.0196 - acc: 0.9970 - val_loss: 0.5726 - val_acc: 0.8665\n",
      "Epoch 16/20\n",
      "15000/15000 [==============================] - 3s - loss: 0.0127 - acc: 0.9992 - val_loss: 0.5566 - val_acc: 0.8728\n",
      "Epoch 17/20\n",
      "15000/15000 [==============================] - 3s - loss: 0.0121 - acc: 0.9987 - val_loss: 0.5844 - val_acc: 0.8723\n",
      "Epoch 18/20\n",
      "15000/15000 [==============================] - 3s - loss: 0.0098 - acc: 0.9983 - val_loss: 0.6081 - val_acc: 0.8693\n",
      "Epoch 19/20\n",
      "15000/15000 [==============================] - 3s - loss: 0.0072 - acc: 0.9992 - val_loss: 0.6404 - val_acc: 0.8681\n",
      "Epoch 20/20\n",
      "15000/15000 [==============================] - 3s - loss: 0.0039 - acc: 0.9999 - val_loss: 0.6808 - val_acc: 0.8672\n"
     ]
    }
   ],
   "source": [
    "normal_history = normal_model.fit(partial_x_train,partial_y_train,\n",
    "                                  epochs=20,\n",
    "                                  batch_size=512,\n",
    "                                  validation_data=(x_val,y_val))"
   ]
  },
  {
   "cell_type": "code",
   "execution_count": 8,
   "metadata": {},
   "outputs": [],
   "source": [
    "from keras import regularizers\n",
    "reg_model = models.Sequential()\n",
    "reg_model.add(layers.Dense(16,\n",
    "                           kernel_regularizer=regularizers.l2(0.001),\n",
    "                          activation='relu',input_shape=(10000,)))\n",
    "reg_model.add(layers.Dense(16,\n",
    "                           kernel_regularizer=regularizers.l2(0.0001),\n",
    "                          activation='relu'))\n",
    "reg_model.add(layers.Dense(1,activation='sigmoid'))\n",
    "\n",
    "reg_model.compile(optimizer='rmsprop',\n",
    "                  loss='binary_crossentropy',\n",
    "                  metrics=['accuracy'])"
   ]
  },
  {
   "cell_type": "code",
   "execution_count": 9,
   "metadata": {},
   "outputs": [
    {
     "name": "stdout",
     "output_type": "stream",
     "text": [
      "Train on 15000 samples, validate on 10000 samples\n",
      "Epoch 1/20\n",
      "15000/15000 [==============================] - 3s - loss: 0.5582 - acc: 0.7689 - val_loss: 0.4649 - val_acc: 0.8280\n",
      "Epoch 2/20\n",
      "15000/15000 [==============================] - 2s - loss: 0.3532 - acc: 0.8970 - val_loss: 0.3482 - val_acc: 0.8843\n",
      "Epoch 3/20\n",
      "15000/15000 [==============================] - 2s - loss: 0.2820 - acc: 0.9191 - val_loss: 0.3605 - val_acc: 0.8682\n",
      "Epoch 4/20\n",
      "15000/15000 [==============================] - 2s - loss: 0.2456 - acc: 0.9316 - val_loss: 0.3167 - val_acc: 0.8896\n",
      "Epoch 5/20\n",
      "15000/15000 [==============================] - 2s - loss: 0.2261 - acc: 0.9370 - val_loss: 0.3312 - val_acc: 0.8832\n",
      "Epoch 6/20\n",
      "15000/15000 [==============================] - 2s - loss: 0.2066 - acc: 0.9469 - val_loss: 0.3563 - val_acc: 0.8736\n",
      "Epoch 7/20\n",
      "15000/15000 [==============================] - 2s - loss: 0.1948 - acc: 0.9520 - val_loss: 0.3392 - val_acc: 0.8854\n",
      "Epoch 8/20\n",
      "15000/15000 [==============================] - 2s - loss: 0.1883 - acc: 0.9539 - val_loss: 0.3669 - val_acc: 0.8772\n",
      "Epoch 9/20\n",
      "15000/15000 [==============================] - 2s - loss: 0.1773 - acc: 0.9587 - val_loss: 0.3478 - val_acc: 0.8819\n",
      "Epoch 10/20\n",
      "15000/15000 [==============================] - 2s - loss: 0.1748 - acc: 0.9590 - val_loss: 0.3553 - val_acc: 0.8819\n",
      "Epoch 11/20\n",
      "15000/15000 [==============================] - 2s - loss: 0.1614 - acc: 0.9645 - val_loss: 0.3626 - val_acc: 0.8798\n",
      "Epoch 12/20\n",
      "15000/15000 [==============================] - 2s - loss: 0.1625 - acc: 0.9642 - val_loss: 0.4265 - val_acc: 0.8660\n",
      "Epoch 13/20\n",
      "15000/15000 [==============================] - 2s - loss: 0.1563 - acc: 0.9657 - val_loss: 0.4561 - val_acc: 0.8614\n",
      "Epoch 14/20\n",
      "15000/15000 [==============================] - 2s - loss: 0.1553 - acc: 0.9661 - val_loss: 0.4031 - val_acc: 0.8758\n",
      "Epoch 15/20\n",
      "15000/15000 [==============================] - 2s - loss: 0.1501 - acc: 0.9671 - val_loss: 0.3939 - val_acc: 0.8768\n",
      "Epoch 16/20\n",
      "15000/15000 [==============================] - 2s - loss: 0.1477 - acc: 0.9689 - val_loss: 0.4508 - val_acc: 0.8572\n",
      "Epoch 17/20\n",
      "15000/15000 [==============================] - 2s - loss: 0.1430 - acc: 0.9709 - val_loss: 0.4310 - val_acc: 0.8717\n",
      "Epoch 18/20\n",
      "15000/15000 [==============================] - 2s - loss: 0.1399 - acc: 0.9709 - val_loss: 0.4257 - val_acc: 0.8680\n",
      "Epoch 19/20\n",
      "15000/15000 [==============================] - 2s - loss: 0.1387 - acc: 0.9710 - val_loss: 0.5142 - val_acc: 0.8447\n",
      "Epoch 20/20\n",
      "15000/15000 [==============================] - 2s - loss: 0.1380 - acc: 0.9713 - val_loss: 0.4310 - val_acc: 0.8703\n"
     ]
    }
   ],
   "source": [
    "reg_history = reg_model.fit(partial_x_train,partial_y_train,\n",
    "                            epochs=20,\n",
    "                            batch_size=512,\n",
    "                            validation_data=(x_val,y_val))"
   ]
  },
  {
   "cell_type": "code",
   "execution_count": 10,
   "metadata": {},
   "outputs": [],
   "source": [
    "import matplotlib.pyplot as plt\n",
    "%matplotlib inline"
   ]
  },
  {
   "cell_type": "code",
   "execution_count": 11,
   "metadata": {},
   "outputs": [
    {
     "data": {
      "image/png": "[encoded data removed]",
      "text/plain": [
       "<matplotlib.figure.Figure at 0x7f72ad3a1780>"
      ]
     },
     "metadata": {},
     "output_type": "display_data"
    }
   ],
   "source": [
    "# plot val_loss giua normal va reg model\n",
    "val_loss_normal = normal_history.history.get('val_loss')\n",
    "val_loss_reg = reg_history.history.get('val_loss')\n",
    "plt.plot(range(1,len(val_loss_normal)+1), val_loss_normal,'b+')\n",
    "plt.plot(range(1,len(val_loss_reg)+1),val_loss_reg,'bo')\n",
    "plt.xlabel('Epochs')\n",
    "plt.ylabel('Validate loss')\n",
    "plt.show()"
   ]
  },
  {
   "cell_type": "code",
   "execution_count": 12,
   "metadata": {},
   "outputs": [],
   "source": [
    "dropout_model = models.Sequential()\n",
    "dropout_model.add(layers.Dense(16,activation='relu',input_shape=(10000,)))\n",
    "dropout_model.add(layers.Dropout(0.5))\n",
    "dropout_model.add(layers.Dense(16,activation='relu'))\n",
    "dropout_model.add(layers.Dropout(0.5))\n",
    "dropout_model.add(layers.Dense(1,activation='sigmoid'))\n",
    "dropout_model.compile(optimizer='rmsprop',\n",
    "              loss='binary_crossentropy',\n",
    "              metrics=['accuracy'])"
   ]
  },
  {
   "cell_type": "code",
   "execution_count": 13,
   "metadata": {},
   "outputs": [
    {
     "name": "stdout",
     "output_type": "stream",
     "text": [
      "Train on 15000 samples, validate on 10000 samples\n",
      "Epoch 1/20\n",
      "15000/15000 [==============================] - 2s - loss: 0.6483 - acc: 0.6230 - val_loss: 0.5780 - val_acc: 0.6635\n",
      "Epoch 2/20\n",
      "15000/15000 [==============================] - 2s - loss: 0.5598 - acc: 0.7856 - val_loss: 0.5138 - val_acc: 0.7915\n",
      "Epoch 3/20\n",
      "15000/15000 [==============================] - 2s - loss: 0.5022 - acc: 0.8491 - val_loss: 0.4781 - val_acc: 0.8249\n",
      "Epoch 4/20\n",
      "15000/15000 [==============================] - 2s - loss: 0.4549 - acc: 0.8823 - val_loss: 0.4482 - val_acc: 0.8668\n",
      "Epoch 5/20\n",
      "15000/15000 [==============================] - 2s - loss: 0.4193 - acc: 0.9044 - val_loss: 0.4815 - val_acc: 0.8264\n",
      "Epoch 6/20\n",
      "15000/15000 [==============================] - 2s - loss: 0.3846 - acc: 0.9145 - val_loss: 0.4320 - val_acc: 0.8655\n",
      "Epoch 7/20\n",
      "15000/15000 [==============================] - 2s - loss: 0.3531 - acc: 0.9259 - val_loss: 0.4685 - val_acc: 0.8530\n",
      "Epoch 8/20\n",
      "15000/15000 [==============================] - 2s - loss: 0.3255 - acc: 0.9364 - val_loss: 0.4551 - val_acc: 0.8632\n",
      "Epoch 9/20\n",
      "15000/15000 [==============================] - 2s - loss: 0.2970 - acc: 0.9432 - val_loss: 0.4416 - val_acc: 0.8690\n",
      "Epoch 10/20\n",
      "15000/15000 [==============================] - 2s - loss: 0.2734 - acc: 0.9472 - val_loss: 0.4792 - val_acc: 0.8645\n",
      "Epoch 11/20\n",
      "15000/15000 [==============================] - 2s - loss: 0.2494 - acc: 0.9514 - val_loss: 0.5026 - val_acc: 0.8614\n",
      "Epoch 12/20\n",
      "15000/15000 [==============================] - 2s - loss: 0.2296 - acc: 0.9566 - val_loss: 0.4778 - val_acc: 0.8650\n",
      "Epoch 13/20\n",
      "15000/15000 [==============================] - 2s - loss: 0.2123 - acc: 0.9595 - val_loss: 0.4950 - val_acc: 0.8643\n",
      "Epoch 14/20\n",
      "15000/15000 [==============================] - 2s - loss: 0.1940 - acc: 0.9631 - val_loss: 0.4872 - val_acc: 0.8659\n",
      "Epoch 15/20\n",
      "15000/15000 [==============================] - 2s - loss: 0.1784 - acc: 0.9673 - val_loss: 0.5211 - val_acc: 0.8634\n",
      "Epoch 16/20\n",
      "15000/15000 [==============================] - 2s - loss: 0.1651 - acc: 0.9674 - val_loss: 0.5295 - val_acc: 0.8624\n",
      "Epoch 17/20\n",
      "15000/15000 [==============================] - 2s - loss: 0.1494 - acc: 0.9688 - val_loss: 0.5752 - val_acc: 0.8608\n",
      "Epoch 18/20\n",
      "15000/15000 [==============================] - 2s - loss: 0.1371 - acc: 0.9730 - val_loss: 0.6698 - val_acc: 0.8599\n",
      "Epoch 19/20\n",
      "15000/15000 [==============================] - 2s - loss: 0.1313 - acc: 0.9725 - val_loss: 0.6051 - val_acc: 0.8626\n",
      "Epoch 20/20\n",
      "15000/15000 [==============================] - 2s - loss: 0.1205 - acc: 0.9758 - val_loss: 0.7374 - val_acc: 0.8589\n"
     ]
    }
   ],
   "source": [
    "dropout_history = dropout_model.fit(partial_x_train,partial_y_train,\n",
    "                                    epochs=20,\n",
    "                                    batch_size=512,\n",
    "                                    validation_data=(x_val,y_val))"
   ]
  },
  {
   "cell_type": "code",
   "execution_count": 14,
   "metadata": {},
   "outputs": [
    {
     "data": {
      "image/png": "[encoded data removed]",
      "text/plain": [
       "<matplotlib.figure.Figure at 0x7f72ad03c588>"
      ]
     },
     "metadata": {},
     "output_type": "display_data"
    }
   ],
   "source": [
    "val_loss_drop = dropout_history.history['val_loss']\n",
    "plt.clf()\n",
    "plt.plot(range(1,len(val_loss_normal)+1), val_loss_normal,'b+')\n",
    "plt.plot(range(1,len(val_loss_drop)+1),val_loss_reg,'bo')\n",
    "plt.xlabel('Epochs')\n",
    "plt.ylabel('Validate loss')\n",
    "plt.show()"
   ]
  },
  {
   "cell_type": "code",
   "execution_count": null,
   "metadata": {},
   "outputs": [],
   "source": []
  }
 ],
 "metadata": {
  "kernelspec": {
   "display_name": "Python 3",
   "language": "python",
   "name": "python3"
  },
  "language_info": {
   "codemirror_mode": {
    "name": "ipython",
    "version": 3
   },
   "file_extension": ".py",
   "mimetype": "text/x-python",
   "name": "python",
   "nbconvert_exporter": "python",
   "pygments_lexer": "ipython3",
   "version": "3.5.2"
  }
 },
 "nbformat": 4,
 "nbformat_minor": 2
}
