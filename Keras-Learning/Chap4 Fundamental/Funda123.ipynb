{
 "cells": [
  {
   "cell_type": "markdown",
   "metadata": {},
   "source": [
    "# ML Căn bản \n"
   ]
  },
  {
   "cell_type": "markdown",
   "metadata": {},
   "source": [
    "## 4.1 4 nhánh chính của ML"
   ]
  },
  {
   "cell_type": "markdown",
   "metadata": {},
   "source": [
    "Cả 3 ví dụ trước đều là **supervised learning**  : Học mối quan hệ từ input với output. \n",
    "Tuy vậy ML vẫn còn rất nhiều dạng khác nhau "
   ]
  },
  {
   "cell_type": "markdown",
   "metadata": {},
   "source": [
    "### Supervised Learning\n",
    "- OCR, speech recognition, image classification, language translation"
   ]
  },
  {
   "cell_type": "markdown",
   "metadata": {},
   "source": [
    "### Unsupervised Learning\n",
    "- Data visualization, data compression, denoising ( analytics )\n",
    "- ALgorithm :Clustering, Demensionality reduction, "
   ]
  },
  {
   "cell_type": "markdown",
   "metadata": {},
   "source": [
    "### Self-supervised Learning \n",
    "E.g : Auto encoder"
   ]
  },
  {
   "cell_type": "markdown",
   "metadata": {},
   "source": [
    "### Reinforcement learning\n",
    "- Keywords: agent, action, reward, score\n",
    "E.g : Google deepmind's Alpha Go, OpenAI's dota2 SF bot ,Travis :D"
   ]
  },
  {
   "cell_type": "markdown",
   "metadata": {},
   "source": [
    "## 4.2 Thuật ngữ "
   ]
  },
  {
   "cell_type": "markdown",
   "metadata": {},
   "source": [
    "- sample / input \n",
    "- prediction / output\n",
    "- target : the truth\n",
    "- prediction error / loss value: distance between prediction and target\n",
    "- Classes : set of possible labels\n",
    "- Label : instance of a class annotation\n",
    "- Ground-truth/ annotation : targets for a data set ( typically collected by humans )\n",
    "- Binary classification\n",
    "- Multi-class classification\n",
    "- Multi-label classification : each input can be assigned multiple labels ( 1 images with both dog and cat -> dog, cat )\n",
    "- Scalar regression : target is a continuous scalar value (e.g: House price)\n",
    "- Vector regression : target is a set of continuous values ( e.g: coordinates of bounding boxes )"
   ]
  },
  {
   "cell_type": "markdown",
   "metadata": {},
   "source": [
    "## 4.3 Đánh giá models"
   ]
  },
  {
   "cell_type": "markdown",
   "metadata": {},
   "source": [
    "Một model tốt là 1 model có lời giải **tổng quát nhất** ( hoạt động tốt cho data ngoài tập training ), và over-fitting là vấn đề cốt lõi mà các model gặp phải .\n",
    "\n",
    "--> Chia data thành các tập training, validation và test "
   ]
  },
  {
   "cell_type": "markdown",
   "metadata": {},
   "source": [
    "### 4.3.1 Tập training, validation và test "
   ]
  },
  {
   "cell_type": "markdown",
   "metadata": {},
   "source": [
    "Đánh giá 1 model hiểu đơn giản là chia data thành 3 phần : training, validation và test. \n",
    "- tập training và tập validation : Tùy chỉnh parameter cho model\n",
    "  - tập training : sử dụng để train model\n",
    "  - tập validation : đánh giá tạm thời kết quả của model vừa train\n",
    "  \n",
    "- tập test : Sau khi có 1 model ổn nhất, ta sẽ đánh giá model đó bằng tập test"
   ]
  },
  {
   "cell_type": "markdown",
   "metadata": {},
   "source": [
    "Tại sao không đơn giản chỉ chia 2 tập là training và test ???\n",
    "  > Sẽ dẫn đến over fitting đối với test set và model không tổng quát\n",
    "\n",
    "**Over fitting test set** là gì ?\n",
    "  > Khái niệm này gọi là \"Information leak\", khi model của bạn bắt đầu học kết quả từ data của test set \n",
    "  \n",
    "Model **không hề train với test set**, tại sao lại **có thể học được thông tin** trong data đó ?\n",
    "  > Sau khi train 1 model, bạn sẽ dùng test set để đánh giá độ chính xác của model --> Sau đó model được \"tuning\" : thay đổi mô hình, số layers, số unit mỗi layer, optimizer và loss function ... để kết quả cải thiện hơn --> Quá trình tuning cũng là quá trình học, và lặp đi lặp lại quá trình (train, tuning) bằng cách đánh giá sai số qua test set dần dần sẽ làm model nhìn được toàn bộ test set --> over fitting \n",
    "  \n",
    "Nhưng nếu **test set chỉ sử dụng 1 lần** thì vẫn có thể đánh giá độ chính xác của model đúng không ? \n",
    "  > Đúng vậy, đó là nguyên nhân ta chia data thành 3 tập : training, validation và test, và tập test cách biệt hoàn toàn với 2 tập còn lại\n",
    "\n",
    "Dưới đấy là một số phương pháp validation cơ bản "
   ]
  },
  {
   "cell_type": "markdown",
   "metadata": {},
   "source": [
    "### 4.3.2 Hold-out validation"
   ]
  },
  {
   "cell_type": "markdown",
   "metadata": {},
   "source": [
    "```python\n",
    "num_validation_samples = 10000\n",
    "num_test_samples = 10000\n",
    "# shuffling the data is usually appropriate\n",
    "np.random.shuffle(data)\n",
    "# splitting data into training, validation & test\n",
    "validation_data\t= data[:num_validation_samples]\n",
    "data = [num_validation_samples:]\n",
    "test_data = data[:num_test_samples]\n",
    "data = [num_test_samples:]\n",
    "training_data = data[:]\n",
    "# get_model return a model that you've built\n",
    "model = get_model()\n",
    "# traing\n",
    "model.train(training_data)\n",
    "validation_score = model.evaluate(training_data)\n",
    "# at this point you can tune your model,\n",
    "# retrain it, evaluate it, tune it again...\n",
    "# once you have tuned your hyperparameters,\n",
    "# is it common to train your final model from scratch\n",
    "# on all non-test data available.\n",
    "# note that the \"+\" operator here is list concatenation,\n",
    "# not summation.\n",
    "model = get_model()\n",
    "test_score = model.evaluate(training_data + validation_data)\n",
    "```"
   ]
  },
  {
   "cell_type": "markdown",
   "metadata": {},
   "source": [
    "Đây là phương pháp đơn giản nhất, nhưng có **1 điểm yếu** : Khi **lượng data quá nhỏ** --> **val và test set chứa quá ít samples** để đánh giá tổng quát được model. Rất dễ nhận thấy khi ta shuffle data trước khi split, độ chính xác của model bị thay đổi rất nhiều --> **K-fold validation hoặc iterated K-fold validation** là 2 pp hiệu quả hơn"
   ]
  },
  {
   "cell_type": "markdown",
   "metadata": {},
   "source": [
    "### 4.3.3 K-fold validation"
   ]
  },
  {
   "cell_type": "markdown",
   "metadata": {},
   "source": [
    "Chia data thành N phần bằng nhau, lấy 1 phần làm val và train model trên N-1 phần còn lại, lấy sai số , lặp lại (fold) N lần . Kết quả cuối cùng là avg của các sai số "
   ]
  },
  {
   "cell_type": "markdown",
   "metadata": {},
   "source": [
    "#### Shuffle data :\n",
    "```python\n",
    "seed = np.arange(train_data.shape[0])\n",
    "# trong vong lap \n",
    "np.random.shuffle(s)\n",
    "train_data = train_data[s]\n",
    "train_targets = train_targets[s]\n",
    "```"
   ]
  },
  {
   "cell_type": "markdown",
   "metadata": {},
   "source": [
    "### 4.3.4 Iterated K-fold validation with shuffling"
   ]
  },
  {
   "cell_type": "markdown",
   "metadata": {},
   "source": [
    "Đánh giá model khá tốt khi bạn có ít data. Ta lặp lại K-fold nhiều lần, và trước mỗi lần đều shuffle data trước khi split ra K phần . "
   ]
  },
  {
   "cell_type": "markdown",
   "metadata": {},
   "source": [
    "*Lưu ý* : ta train và evaluate **P*K models**, với **P là số vòng lặp**"
   ]
  },
  {
   "cell_type": "markdown",
   "metadata": {},
   "source": [
    "### 4.3.5 Vài lời cuối "
   ]
  },
  {
   "cell_type": "markdown",
   "metadata": {},
   "source": [
    "Bạn nên lưu ý 1 vài điều sau :\n",
    "- **Data representativity** : Trong bài toán classify digit, bạn chia data không đều, tập training chỉ có các số từ 0-7, tập test toàn sample của 8 và 9 --> Một lỗi rất dễ mắc phải, hãy shuffle random phù hợp \n",
    "- **The arrow of time** : Bạn cần **predict tương lai** dựa trên data quá khứ . **Không nên shuffle data**, hãy đảm bảo rằng tất cả test data đều là tương lai của train data\n",
    "- **Redundancy** : Sự trùng lặp data, khi data có **một số sample bị lặp**, sau khi chia data, train và test set có thể tồn tại 1 số sample trùng nhau. Hãy đảm bảo rằng data trong tập train và test **luôn tách biệt**"
   ]
  },
  {
   "cell_type": "code",
   "execution_count": null,
   "metadata": {},
   "outputs": [],
   "source": []
  }
 ],
 "metadata": {
  "kernelspec": {
   "display_name": "Python 3",
   "language": "python",
   "name": "python3"
  },
  "language_info": {
   "codemirror_mode": {
    "name": "ipython",
    "version": 3
   },
   "file_extension": ".py",
   "mimetype": "text/x-python",
   "name": "python",
   "nbconvert_exporter": "python",
   "pygments_lexer": "ipython3",
   "version": "3.5.2"
  }
 },
 "nbformat": 4,
 "nbformat_minor": 2
}
