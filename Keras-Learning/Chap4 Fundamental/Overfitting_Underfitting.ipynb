{
 "cells": [
  {
   "cell_type": "markdown",
   "metadata": {},
   "source": [
    "# ML căn bản part 3"
   ]
  },
  {
   "cell_type": "markdown",
   "metadata": {},
   "source": [
    "## 4.5 OVERFITTING VÀ UNDERFITTING"
   ]
  },
  {
   "cell_type": "markdown",
   "metadata": {},
   "source": [
    "**Under fitting** \n",
    "\n",
    "Khi ta vẫn có thể optimize giúp nâng độ chính xác của model trong bài toán generalize lên ( tuning model, preprocessing , feature processing, training ...)\n",
    "\n",
    "Giải pháp :\n",
    "- Giải pháp tốt nhất đối với under fitting : **More data**\n",
    "- Sau đó : **tuning model**, nếu network chỉ có thể nhớ 1 số ít các thuộc tính, quá trình optimize sẽ **bắt** model tập trung vào những **thuộc tính đặc trưng nhất** --> tăng độ chính xác cho bài toán generalize"
   ]
  },
  {
   "cell_type": "markdown",
   "metadata": {},
   "source": [
    "**Over fitting**\n",
    "\n",
    "Ở các ví dụ trước, trong bước validate model, độ chính xác của model tăng đến 1 ngưỡng nhất định rồi sau 1 vài epoch bắt đầu giảm\n",
    "--> Overfitting"
   ]
  },
  {
   "cell_type": "markdown",
   "metadata": {},
   "source": [
    "2 yếu tố quan trọng để đánh giá 1 model :\n",
    "- **Optimization** : Thiết kế và train Model để có được độ chính xác tối đa trong **tập training** ( Điểm số trên lớp cao nhất có thể )\n",
    "- **Generalization** : Độ chính xác khi áp dụng model vào **data thực tế **( Lúc đi làm ) \n",
    "\n",
    "**Mục đích chính** của bài toán là **Generalization**, nhưng đây là yếu tố ta **không thể kiểm soát được**, ta chỉ \"fit\" được model với **training data**\n",
    "\n",
    "\n",
    "\n"
   ]
  },
  {
   "cell_type": "markdown",
   "metadata": {},
   "source": [
    "### 4.5.1 Các giải pháp cho bài toán Over fitting"
   ]
  },
  {
   "cell_type": "markdown",
   "metadata": {},
   "source": [
    "#### 1. GIẢM NETWORK SIZE"
   ]
  },
  {
   "cell_type": "markdown",
   "metadata": {},
   "source": [
    "Cách đơn giản nhất là **giảm size** của model a.k.a giảm số **learnable parameters** của model ( model capacity ):\n",
    "- Giảm số hidden layers\n",
    "- Giảm số hidden units trong 1 layer"
   ]
  },
  {
   "cell_type": "markdown",
   "metadata": {},
   "source": [
    "Hiểu đơn giản, model càng to não càng nhớ được nhiều, thậm chí nhớ cả cách mapping giữa train data và label, Tuy vậy độ chính xác khi gặp các data mới lại thấp --> Generalize thấp "
   ]
  },
  {
   "cell_type": "markdown",
   "metadata": {},
   "source": [
    "Nhưng nếu network không đủ to não để nhớ các thuộc tính quan trọng --> **Under fitting** "
   ]
  },
  {
   "cell_type": "markdown",
   "metadata": {},
   "source": [
    "Không có 1 công thức nào có thể chỉ ra đâu là số layer phù hợp, hay đâu là số hidden unit phù hợp cho mỗi layer --> Ta phải tự đánh giá (với tập validation) trên nhiều kiến trúc khác nhau để tìm ra size phù hợp --> Bắt đầu với ít layers và params, sau đó tăng dần size đến khi thấy độ chính xác không ngừng giảm  "
   ]
  },
  {
   "cell_type": "code",
   "execution_count": null,
   "metadata": {},
   "outputs": [],
   "source": []
  }
 ],
 "metadata": {
  "kernelspec": {
   "display_name": "Python 3",
   "language": "python",
   "name": "python3"
  },
  "language_info": {
   "codemirror_mode": {
    "name": "ipython",
    "version": 3
   },
   "file_extension": ".py",
   "mimetype": "text/x-python",
   "name": "python",
   "nbconvert_exporter": "python",
   "pygments_lexer": "ipython3",
   "version": "3.6.3"
  }
 },
 "nbformat": 4,
 "nbformat_minor": 2
}
