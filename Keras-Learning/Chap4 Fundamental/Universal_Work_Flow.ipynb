{
 "cells": [
  {
   "cell_type": "markdown",
   "metadata": {},
   "source": [
    "# 4.6 Phương pháp giải bài toán machine learning"
   ]
  },
  {
   "cell_type": "markdown",
   "metadata": {},
   "source": [
    "Trong mục này, ta sẽ tổng kết lại và chỉ ra các bước chính để tấn công / giải quyết bất kỳ bài toán machine learning nào. "
   ]
  },
  {
   "cell_type": "markdown",
   "metadata": {},
   "source": [
    "## 4.6.1 Xác định bài toán và thu thập data\n",
    "Xác định bài toán:\n",
    "- **input data** sẽ như thế nào ? Ta cần **predict** gì ? Ta cần có **data** để train model\n",
    "- Bài toán **thuộc dạng nào?** ( binary classification, multi-class classification, scalar regression, vector regression , multi-class, multi lable classification,... ?) hoặc clustering, generation / reinforcement learning ? Xác định rõ loại baì sẽ giúp ích rất nhiều cho quá trình xây dựng model ( cấu trúc, loại loss function ...)"
   ]
  },
  {
   "cell_type": "markdown",
   "metadata": {},
   "source": [
    "Lưu ý 2 vấn đề sau :\n",
    "1. Bạn cho rằng output có thể predict từ input\n",
    "2. Bạn cho rằng lượng data là đủ để model có thể học mối liên hệ giữa input và out put"
   ]
  },
  {
   "cell_type": "markdown",
   "metadata": {},
   "source": [
    "Ví dụ về 1: \n",
    "- Bạn dự đoán giá cổ phiếu của 1 mã dựa trên số liệu gần  đây của mã đó --> rất khó để đoán đúng, chỉ số liệu gần đây của mã đó là không đủ "
   ]
  },
  {
   "cell_type": "markdown",
   "metadata": {},
   "source": [
    "Lưu ý về bài toán **biến động** : Bạn xây dựng 1 hệ thống recommendation quần áo dựa trên số liệu tháng 8, thì sẽ không thể áp dụng cho tháng 12, vì xu hướng cũng như kiểu quần áo thay đổi theo thời gian... Cách hợp lý là lấy thêm data từ các năm trước đó, và thời điểm của data cũng là 1 input cho network"
   ]
  },
  {
   "cell_type": "markdown",
   "metadata": {},
   "source": [
    "Khi bạn sử dụng machine learning để dự đoán tương lai, bạn phải chắc rằng những điều trong tương lai cũng giống như quá khứ, và không phải lúc nào điều đó cũng đúng"
   ]
  },
  {
   "cell_type": "markdown",
   "metadata": {},
   "source": [
    "## 4.6.2 Chọn 1 thước đo chính xác \n",
    "- Accuracy ?\n",
    "- Precision - Recall ?\n",
    "- Tăng số lượng người mua ?\n",
    "\n",
    "Đại lượng đó sẽ giúp bạn đưa ra quyết định đúng cho loss function -> model sẽ tìm cách tối thiểu hóa giá trị đó. "
   ]
  },
  {
   "cell_type": "markdown",
   "metadata": {},
   "source": [
    "- Balanced classification problems : ROC-AUC\n",
    "- Class-imbalanced problems : Precision - Recall \n",
    "- Ranking / multi label classification : MAP\n",
    "..."
   ]
  },
  {
   "cell_type": "markdown",
   "metadata": {},
   "source": [
    "[Kaggle.com](https://www.kaggle.com)"
   ]
  },
  {
   "cell_type": "markdown",
   "metadata": {},
   "source": [
    "## 4.6.3 Chọn phương pháp đánh giá \n",
    "Khi bạn đã biết mục đích cần làm, bạn phải tìm phương pháp đánh giá model phù hợp. Ta đã đề cập 1 số phương pháp phổ biến sau :\n",
    "- Hold-out validation set : khi ta có nhiều data\n",
    "- K-fold cross validation: Khi data có ít, và hold-out không phải là 1 giải pháp tốt\n",
    "- iterated K-fold validation : Khả năng đánh giá model khá tin cậy, đặc biệt cho các bài toán model có giới hạn\n"
   ]
  },
  {
   "cell_type": "markdown",
   "metadata": {},
   "source": [
    "## 4.6.4 Chuẩn bị data\n",
    "Hãy format data thành một dạng phù hợp trước khi đưa vào model :\n",
    "- Kiểu tensor\n",
    "- Scale giá trị nhỏ [-1,1] hoặc [0,1]\n",
    "- Nếu range các feature khác nhau -> normalized\n",
    "- Feature engineering  "
   ]
  },
  {
   "cell_type": "markdown",
   "metadata": {},
   "source": [
    "## 4.6.5 Xây dựng model tốt"
   ]
  },
  {
   "cell_type": "markdown",
   "metadata": {},
   "source": [
    "Là model có độ chính xác cao hơn các model bình thường.\n",
    "Trong bài toán MNIST, thang đo là 0.1, còn trong bài toán IMDB là 0.5 ( chênh lệch acc)"
   ]
  },
  {
   "cell_type": "markdown",
   "metadata": {},
   "source": [
    "Nếu model cho kết qủa không khả quan so với random, có thể input data không có những thuộc tính để tìm ra đựoc output"
   ]
  },
  {
   "cell_type": "markdown",
   "metadata": {},
   "source": [
    "3 điều quan trọng bạn cần chú ý ở bước này :\n",
    "- Chọn activation phù hợp cho layer cuối, e.g : \n",
    "  - IMDB : sigmoid \n",
    "  - Boston_house_price : không sử dụng ( scalar regression)\n",
    "- Chọn loss function phù hợp với dạng bài toán, e.g :\n",
    "  - IMDB : binary_crossentropy\n",
    "  - Reuters : categorical_crossentropy\n",
    "  - Boston_hose_price : Mean square error\n",
    "- Chọn tùy chỉnh optimize : nên dùng optimizer nào ? learning rate là bao nhiêu ? "
   ]
  },
  {
   "cell_type": "markdown",
   "metadata": {},
   "source": [
    "| Problem type  | Last-layer activation | Loss function  |\n",
    "| :-------------: |:-----------------------:|:----------------:|\n",
    "| binary classification|sigmoid         |binary_crossentropy |\n",
    "| multi class, single-label      | softmax|categorical_crossentropy |\n",
    "| muti-class, multi-label|sigmoid|binary_crossentropy |\n",
    "| Regression arbitrary values| None| mse |\n",
    "| Regression values [0,1] |sigmoid | mse / binary_crossentropy|"
   ]
  },
  {
   "cell_type": "markdown",
   "metadata": {},
   "source": [
    "## 4.6.6 Mở rộng : Xây dựng 1 model overfits\n",
    "Model chúng ta đã đủ chính xác chưa ? Nó có đủ layer hay params để được độ chính xác tốt nhất chưa ?\n",
    "\n",
    "Để có được model hiệu quả nhất, ta phải \"cross the line\". Để trả lời câu hỏi Model của mình đã đủ độ lớn để bao quát bài toán chưa ? Ta phải over fit model đó :\n",
    "- Thêm layers\n",
    "- Thêm số hidden units\n",
    "- Train nhiều epochs\n",
    "\n",
    "Hãy luôn kiểm tra loss & val_loss, cũng như metrics mà bạn quan tâm. Khi thấy val_loss không ngừng tăng, bạn đã over fitting\n",
    "\n",
    "Bước tiếp theo là tuning và reguularizing model để có được một model hoàn thiện nhất, vừa không over-fitting, cũng không bị under-fitting"
   ]
  },
  {
   "cell_type": "markdown",
   "metadata": {},
   "source": [
    "## 4.6.7 Regularize model & tune hyperparameters "
   ]
  },
  {
   "cell_type": "markdown",
   "metadata": {},
   "source": [
    "Đây là quá trình tốn thời gian nhất, bạn phải liên tục chỉnh sửa model, train, eval, modify tiếp... đến khi model đạt kết quả tốt nhất có thể \n",
    "\n",
    "Bạn nên thử 1 số phương pháp sau :\n",
    "- drop out\n",
    "- chọn kiến trúc khác, thêm/ bớt layers\n",
    "- L1 / L2 regularization\n",
    "- chọn các hyper parameters khác : số hidden units, learning rate của optimizer ... để tìm optimal configuration\n",
    "- *Phụ* : Thử feature engineering, lược bỏ các feature không chứa nhiều thông tin"
   ]
  },
  {
   "cell_type": "markdown",
   "metadata": {},
   "source": [
    "Lưu ý rằng lặp lại quá trình (modify-tuning-eval), dần dần model sẽ nhìn thấy hết data trong eval set, qua đó độ chính xác của eval set sẽ giảm xuống"
   ]
  },
  {
   "cell_type": "markdown",
   "metadata": {},
   "source": [
    "Khi bạn đã xây dựng được 1 model có vẻ ổn, hãy thử train với tất cả data ( training & validation ) và evaluate trên tập test. Nếu kết quả trên test set bị giảm đi đáng kể so với validation --> validation data đã bị **infomation leaking** trong quá trình tuning. Khi đó ta phải sử dụng 1 phương pháp đánh giá phù hợp hơn ( K-fold )"
   ]
  },
  {
   "cell_type": "code",
   "execution_count": null,
   "metadata": {},
   "outputs": [],
   "source": []
  }
 ],
 "metadata": {
  "kernelspec": {
   "display_name": "Python 3",
   "language": "python",
   "name": "python3"
  },
  "language_info": {
   "codemirror_mode": {
    "name": "ipython",
    "version": 3
   },
   "file_extension": ".py",
   "mimetype": "text/x-python",
   "name": "python",
   "nbconvert_exporter": "python",
   "pygments_lexer": "ipython3",
   "version": "3.5.2"
  }
 },
 "nbformat": 4,
 "nbformat_minor": 2
}
