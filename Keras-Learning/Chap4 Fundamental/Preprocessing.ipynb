{
 "cells": [
  {
   "cell_type": "markdown",
   "metadata": {},
   "source": [
    "# ML căn bản P2\n",
    "## 4.4 DATA PREPROCESSING, FEATURE ENGINEERING & FEATURE LEARNING"
   ]
  },
  {
   "cell_type": "markdown",
   "metadata": {},
   "source": [
    "Bên cạnh việc đánh giá model, việc xử lý input data cũng rất quan trọng. Nhiều phương pháp xử lý data là điều bặt buộc đôí với các data như speech to text data, image data"
   ]
  },
  {
   "cell_type": "markdown",
   "metadata": {},
   "source": [
    "### 4.4.1 Data preprocessing for NN"
   ]
  },
  {
   "cell_type": "markdown",
   "metadata": {},
   "source": [
    "#### VECTORIZATION\n",
    "Input của NN phải là **1 tensor** của 1 điểm dữ liệu. Bất cứ loại data nào, như âm thanh, hình ảnh, chữ viết ... trước tiên đều phải được chuyển thành dạnh tensor, quá trình này được gọi là **data vectorization**"
   ]
  },
  {
   "cell_type": "markdown",
   "metadata": {},
   "source": [
    "eg :\n",
    "- One-hot encoded trong bài toán classify text ở 2 ví dụ trước\n",
    "- Mnist data đã có sẵn kiểu tensor"
   ]
  },
  {
   "cell_type": "markdown",
   "metadata": {},
   "source": [
    "#### VALUE NORMALIZATION"
   ]
  },
  {
   "cell_type": "markdown",
   "metadata": {},
   "source": [
    "Rescale : Mnist, thường dùng để chuyển giá trị các pixel trong ảnh về giá trị [0,1]\n",
    "\n",
    "$x' =  \\frac{ ( x- min(x) )}{max(x)-min(x)}$\n",
    " \n",
    "```python\n",
    "x = (x - np.min(x))/(np.max(x)- np.min(x))\n",
    "```\n"
   ]
  },
  {
   "cell_type": "markdown",
   "metadata": {},
   "source": [
    "Mean normalisation : \n",
    "\n",
    "$ x' =  \\frac{ ( x- mean(x) )}{max(x)-min(x)}$\n",
    "```python\n",
    "x = (x - x.mean(axis=0))(np.max(x)- np.min(x))\n",
    "```"
   ]
  },
  {
   "cell_type": "markdown",
   "metadata": {},
   "source": [
    "Standardization : Sử dụng trong bài house price, khi giá trị các feature trải rộng trên các miền. Các feature sau đó sẽ có mean = 0 và std = 1 \n",
    "\n",
    "$x' =  \\frac{x- \\bar{x}}{\\sigma }$\n",
    "\n",
    "```python\n",
    "mean = x.mean(axis=0)\n",
    "x-= mean\n",
    "std = x.std(axis=0)\n",
    "x /= std\n",
    "```\n",
    "\n"
   ]
  },
  {
   "cell_type": "markdown",
   "metadata": {},
   "source": [
    "> For example, the majority of classifiers calculate the distance between two points by the Euclidean distance. If one of the features has a **broad range of values**, the **distance** will be **governed** by this particular feature. Therefore, the range of all features should be normalized so that each feature **contributes approximately proportionately** to the final distance."
   ]
  },
  {
   "cell_type": "markdown",
   "metadata": {},
   "source": [
    "- Không nên để data có giá trị lớn -> Khó converge\n",
    "- Không nên để các feature của data có range khác nhau -> Ảnh hưởng đến weight của các feature   "
   ]
  },
  {
   "cell_type": "markdown",
   "metadata": {},
   "source": [
    "Ta nên :\n",
    "- Lấy giá trị nhỏ, thông thường trong khoảng 0-1\n",
    "- đồng nhất, các feature nên có value cùng range để có vai trò ban đầu ngang bằng nhau trong network"
   ]
  },
  {
   "cell_type": "markdown",
   "metadata": {},
   "source": [
    "#### HANDLING MISSING VALUES"
   ]
  },
  {
   "cell_type": "markdown",
   "metadata": {},
   "source": [
    "Một số cách phổ biến :\n",
    "- Đặt missing values = 0, network sẽ hiểu giá trị đó bị thiếu, tuy vậy model cũng không học được các giá trị thiếu khi thử với test data\n",
    "- Tạo training sample với missing values ảo ( copy 1 sample nhiều lần và bỏ mất 1 số feature ) "
   ]
  },
  {
   "cell_type": "markdown",
   "metadata": {},
   "source": [
    "### 4.4.2 Feature engineering ( Lựa chọn feature )"
   ]
  },
  {
   "cell_type": "markdown",
   "metadata": {},
   "source": [
    "Cách chọn các feature sao cho model có thể hiểu nhanh và dễ dàng xử lý \n",
    "![Choose good feature](faeture.png)"
   ]
  },
  {
   "cell_type": "markdown",
   "metadata": {},
   "source": [
    "Thay vì dùng raw-pixel, ta chuyển ảnh về tọa độ 2 đầu kim, thậm chí sử dụng góc tạo bởi mỗi kim so với Ox làm những feature phù hợp để feed vào network "
   ]
  },
  {
   "cell_type": "markdown",
   "metadata": {},
   "source": [
    "Network có thể tự học feature thay vì qua 1 bước chọn tay như chúng ta làm, 1 mô hình đặc biệt là CNN"
   ]
  },
  {
   "cell_type": "markdown",
   "metadata": {},
   "source": [
    "Tuy vậy, chọn những feature tốt để feed vào model sẽ có những ưu điểm sau :\n",
    "- giải bài toán **hợp lý hơn** dù sử dụng **ít tài nguyên hơn**\n",
    "- giải bài toán chỉ với **lượng data ít**, vì càng ít data, việc học các feature tốt càng quan trọng"
   ]
  },
  {
   "cell_type": "code",
   "execution_count": null,
   "metadata": {},
   "outputs": [],
   "source": []
  }
 ],
 "metadata": {
  "kernelspec": {
   "display_name": "Python 3",
   "language": "python",
   "name": "python3"
  },
  "language_info": {
   "codemirror_mode": {
    "name": "ipython",
    "version": 3
   },
   "file_extension": ".py",
   "mimetype": "text/x-python",
   "name": "python",
   "nbconvert_exporter": "python",
   "pygments_lexer": "ipython3",
   "version": "3.6.3"
  }
 },
 "nbformat": 4,
 "nbformat_minor": 2
}
