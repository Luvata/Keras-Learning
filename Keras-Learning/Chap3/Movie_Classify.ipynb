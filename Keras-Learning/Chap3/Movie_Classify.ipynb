{
 "cells": [
  {
   "cell_type": "markdown",
   "metadata": {},
   "source": [
    "# Classify movie reviews"
   ]
  },
  {
   "cell_type": "code",
   "execution_count": 1,
   "metadata": {},
   "outputs": [
    {
     "name": "stderr",
     "output_type": "stream",
     "text": [
      "Using TensorFlow backend.\n"
     ]
    },
    {
     "data": {
      "text/plain": [
       "'2.0.8'"
      ]
     },
     "execution_count": 1,
     "metadata": {},
     "output_type": "execute_result"
    }
   ],
   "source": [
    "import keras\n",
    "keras.__version__"
   ]
  },
  {
   "cell_type": "code",
   "execution_count": 2,
   "metadata": {},
   "outputs": [],
   "source": [
    "from keras.datasets import imdb"
   ]
  },
  {
   "cell_type": "code",
   "execution_count": 3,
   "metadata": {},
   "outputs": [],
   "source": [
    "(train_data,train_labels), (test_data,test_labels) = imdb.load_data(num_words=10000)"
   ]
  },
  {
   "cell_type": "code",
   "execution_count": 4,
   "metadata": {},
   "outputs": [],
   "source": [
    "#num_word : lay 10 000 word pho bien nhat\n",
    "word_index = imdb.get_word_index();"
   ]
  },
  {
   "cell_type": "code",
   "execution_count": 5,
   "metadata": {},
   "outputs": [
    {
     "data": {
      "text/plain": [
       "3"
      ]
     },
     "execution_count": 5,
     "metadata": {},
     "output_type": "execute_result"
    }
   ],
   "source": [
    "word_index['a']"
   ]
  },
  {
   "cell_type": "markdown",
   "metadata": {},
   "source": [
    "### Word_index là tập các word và index của word đó\n",
    "( Con số để decode trong data )"
   ]
  },
  {
   "cell_type": "markdown",
   "metadata": {},
   "source": [
    "Ta sẽ decode thử 1 review từ train_data"
   ]
  },
  {
   "cell_type": "code",
   "execution_count": 6,
   "metadata": {},
   "outputs": [],
   "source": [
    "word_index_reverse = dict([(a,b) for (b,a) in word_index.items()])"
   ]
  },
  {
   "cell_type": "code",
   "execution_count": 7,
   "metadata": {},
   "outputs": [
    {
     "data": {
      "text/plain": [
       "'the'"
      ]
     },
     "execution_count": 7,
     "metadata": {},
     "output_type": "execute_result"
    }
   ],
   "source": [
    "word_index_reverse[1]"
   ]
  },
  {
   "cell_type": "code",
   "execution_count": 8,
   "metadata": {},
   "outputs": [],
   "source": [
    "decode = ''\n",
    "for i in train_data[0]:\n",
    "    decode = decode + word_index_reverse.get(i-3, '?')+' '\n",
    "# get value cua i-3 trong word_index_reverse, neu khong co tra ve ?"
   ]
  },
  {
   "cell_type": "code",
   "execution_count": 9,
   "metadata": {},
   "outputs": [
    {
     "data": {
      "text/plain": [
       "\"? this film was just brilliant casting location scenery story direction everyone's really suited the part they played and you could just imagine being there robert ? is an amazing actor and now the same being director ? father came from the same scottish island as myself so i loved the fact there was a real connection with this film the witty remarks throughout the film were great it was just brilliant so much that i bought the film as soon as it was released for ? and would recommend it to everyone to watch and the fly fishing was amazing really cried at the end it was so sad and you know what they say if you cry at a film it must have been good and this definitely was also ? to the two little boy's that played the ? of norman and paul they were just brilliant children are often left out of the ? list i think because the stars that play them all grown up are such a big profile for the whole film but these children are amazing and should be praised for what they have done don't you think the whole story was so lovely because it was true and was someone's life after all that was shared with us all \""
      ]
     },
     "execution_count": 9,
     "metadata": {},
     "output_type": "execute_result"
    }
   ],
   "source": [
    "decode"
   ]
  },
  {
   "cell_type": "markdown",
   "metadata": {},
   "source": [
    "## Chuẩn bị data"
   ]
  },
  {
   "cell_type": "markdown",
   "metadata": {},
   "source": [
    "Chúng ta không thể cho trực tiếp các data vào network, phải biến chúng thành tensor  -> Có 2 cách :\n",
    "- pad list để các review cùng length\n",
    "- <b>one hot encoded</b> "
   ]
  },
  {
   "cell_type": "markdown",
   "metadata": {},
   "source": [
    "### Giải thích về one-hot encode trong bài toán này :\n"
   ]
  },
  {
   "cell_type": "code",
   "execution_count": 10,
   "metadata": {},
   "outputs": [],
   "source": [
    "import numpy as np\n",
    "def vectorized_sequences(sequences, dim=10000):\n",
    "    # tạo ma trận 0 shape len(seq),dim\n",
    "    results = np.zeros((len(sequences),dim))\n",
    "    for i, sequence in enumerate(sequences):\n",
    "        # đánh dấu index của result[i] sang 1\n",
    "        # print(i, sequence)\n",
    "        results[i, sequence] = 1\n",
    "    return results\n",
    "\n",
    "\n",
    "    "
   ]
  },
  {
   "cell_type": "code",
   "execution_count": 11,
   "metadata": {},
   "outputs": [
    {
     "name": "stdout",
     "output_type": "stream",
     "text": [
      "film\n",
      "hair\n",
      "has\n",
      "?\n",
      "mistake\n",
      "better\n",
      "production\n",
      "?\n",
      "got\n",
      "movie\n"
     ]
    }
   ],
   "source": [
    "for i,j in enumerate(train_data[:10]):\n",
    "    print(word_index_reverse.get(j[2]-3,'?'))"
   ]
  },
  {
   "cell_type": "code",
   "execution_count": 12,
   "metadata": {},
   "outputs": [],
   "source": [
    "x_train = vectorized_sequences(train_data)\n",
    "x_test = vectorized_sequences(test_data)"
   ]
  },
  {
   "cell_type": "code",
   "execution_count": 14,
   "metadata": {},
   "outputs": [
    {
     "data": {
      "text/plain": [
       "(25000, 10000)"
      ]
     },
     "execution_count": 14,
     "metadata": {},
     "output_type": "execute_result"
    }
   ],
   "source": [
    "x_train.shape"
   ]
  },
  {
   "cell_type": "code",
   "execution_count": 15,
   "metadata": {},
   "outputs": [
    {
     "data": {
      "text/plain": [
       "array([[ 0.,  1.,  1., ...,  0.,  0.,  0.],\n",
       "       [ 0.,  1.,  1., ...,  0.,  0.,  0.],\n",
       "       [ 0.,  1.,  1., ...,  0.,  0.,  0.],\n",
       "       ..., \n",
       "       [ 0.,  1.,  1., ...,  0.,  0.,  0.],\n",
       "       [ 0.,  1.,  1., ...,  0.,  0.,  0.],\n",
       "       [ 0.,  1.,  1., ...,  0.,  0.,  0.]])"
      ]
     },
     "execution_count": 15,
     "metadata": {},
     "output_type": "execute_result"
    }
   ],
   "source": [
    "x_train"
   ]
  },
  {
   "cell_type": "code",
   "execution_count": 16,
   "metadata": {},
   "outputs": [],
   "source": [
    "# vectorized labels : \n",
    "y_train = np.asarray(train_labels, dtype='float32')\n",
    "y_test = np.asarray(test_labels,dtype='float32')"
   ]
  },
  {
   "cell_type": "code",
   "execution_count": 17,
   "metadata": {},
   "outputs": [
    {
     "data": {
      "text/plain": [
       "array([ 1.,  1.,  1., ...,  1.,  0.,  1.], dtype=float32)"
      ]
     },
     "execution_count": 17,
     "metadata": {},
     "output_type": "execute_result"
    }
   ],
   "source": [
    "y_test"
   ]
  },
  {
   "cell_type": "markdown",
   "metadata": {},
   "source": [
    "## OK, Bây giờ chúng ta sẽ build network"
   ]
  },
  {
   "cell_type": "markdown",
   "metadata": {},
   "source": [
    "Ta sẽ xây dựng 1 network với 3 layers :\n",
    "- 2 hidden layers với 16 hidden unit, activation là relu\n",
    "- output layer : activation là sigmoid "
   ]
  },
  {
   "cell_type": "code",
   "execution_count": 18,
   "metadata": {},
   "outputs": [],
   "source": [
    "from keras import models\n",
    "from keras import layers\n"
   ]
  },
  {
   "cell_type": "code",
   "execution_count": 19,
   "metadata": {},
   "outputs": [],
   "source": [
    "model = models.Sequential()\n",
    "# Dense : FC layer \n",
    "# output = activation(dot(input, kernel)+ bias)\n",
    "model.add(layers.Dense(16,activation='relu', input_shape=(10000,)))\n",
    "model.add(layers.Dense(16,activation='relu'))\n",
    "model.add(layers.Dense(1,activation='sigmoid'))"
   ]
  },
  {
   "cell_type": "markdown",
   "metadata": {},
   "source": [
    "Without\tan\tactivation\tfunction\tlike\t relu \t(also\tcalled\ta\tnon-linearity),\tour\t Dense \tlayer\twould\n",
    "consist\tin\ttwo\tlinear\toperations,\ta\tdot\tproduct\tand\tan\taddition. </br>\n",
    "output\t=\tdot(W,\tinput)\t+\tb </br>\n",
    "So\tthe\tlayer\tcould\tonly\tlearn <b>linear transformations </b>\t(affine\ttransformations)\tof\tthe\tinput\tdata,\ti.e.\n",
    "the\thypothesis\tspace\tof\tthe\tlayer\twould\tbe\tthe\tset\tof\tall\tpossible\tlinear\ttransformations\tof\tthe\n",
    "input\tdata\tinto\ta\t16-dimensional\tspace.\tSuch\tan\thypothesis\tspace\tis\ttoo\trestricted,\tand\twouldn’t\n",
    "benefit\tfrom\tmultiple\tlayers\tof\trepresentations,\tbecause\ta\tdeep\tstack\tof\tlinear\tlayers\twould\tstill\n",
    "implement\ta\tlinear\toperation:\tadding\tmore\tlayers\twouldn’t\textend\tthe\thypothesis\tspace."
   ]
  },
  {
   "cell_type": "markdown",
   "metadata": {},
   "source": [
    "Cuối cùng ta cần 1 optmizer và 1 loss function \n",
    "Trong bài này ta sẽ dùng binary-cross entropy"
   ]
  },
  {
   "cell_type": "code",
   "execution_count": 20,
   "metadata": {},
   "outputs": [],
   "source": [
    "model.compile(optimizer='rmsprop',\n",
    "             loss='binary_crossentropy',\n",
    "             metrics=['accuracy'])"
   ]
  },
  {
   "cell_type": "markdown",
   "metadata": {},
   "source": [
    "Ta cũng có thể truyền args vào optimizers như sau :"
   ]
  },
  {
   "cell_type": "code",
   "execution_count": 23,
   "metadata": {},
   "outputs": [],
   "source": [
    "from keras import optimizers\n",
    "from keras import metrics\n",
    "from keras import losses"
   ]
  },
  {
   "cell_type": "markdown",
   "metadata": {},
   "source": [
    "Sau đó gọi : \n",
    "```python\n",
    "optimizer = optimizers.RMSprop(lr=0.001)\n",
    "metrics = [metrics.binary_accuracy]\n",
    "```\n"
   ]
  },
  {
   "cell_type": "code",
   "execution_count": 24,
   "metadata": {},
   "outputs": [],
   "source": [
    "model.compile(optimizer=optimizers.RMSprop(lr=0.001),\n",
    "             loss=losses.binary_crossentropy,\n",
    "             metrics=[metrics.binary_accuracy])"
   ]
  },
  {
   "cell_type": "code",
   "execution_count": 25,
   "metadata": {},
   "outputs": [],
   "source": [
    "# chia data để có validation \n",
    "x_val = x_train[:10000]\n",
    "partial_x_train = x_train[10000:]\n",
    "\n",
    "y_val = y_train[:10000]\n",
    "partial_y_train = y_train[10000:]"
   ]
  },
  {
   "cell_type": "markdown",
   "metadata": {},
   "source": [
    "## It's training time :D"
   ]
  },
  {
   "cell_type": "code",
   "execution_count": 26,
   "metadata": {},
   "outputs": [
    {
     "name": "stdout",
     "output_type": "stream",
     "text": [
      "Train on 15000 samples, validate on 10000 samples\n",
      "Epoch 1/20\n",
      "15000/15000 [==============================] - 14s - loss: 0.5157 - binary_accuracy: 0.7895 - val_loss: 0.4009 - val_binary_accuracy: 0.8653\n",
      "Epoch 2/20\n",
      "15000/15000 [==============================] - 2s - loss: 0.3146 - binary_accuracy: 0.9029 - val_loss: 0.3247 - val_binary_accuracy: 0.8787\n",
      "Epoch 3/20\n",
      "15000/15000 [==============================] - 2s - loss: 0.2319 - binary_accuracy: 0.9246 - val_loss: 0.2808 - val_binary_accuracy: 0.8923\n",
      "Epoch 4/20\n",
      "15000/15000 [==============================] - 2s - loss: 0.1816 - binary_accuracy: 0.9430 - val_loss: 0.2729 - val_binary_accuracy: 0.8905\n",
      "Epoch 5/20\n",
      "15000/15000 [==============================] - 2s - loss: 0.1495 - binary_accuracy: 0.9513 - val_loss: 0.2780 - val_binary_accuracy: 0.8891\n",
      "Epoch 6/20\n",
      "15000/15000 [==============================] - 2s - loss: 0.1209 - binary_accuracy: 0.9631 - val_loss: 0.3221 - val_binary_accuracy: 0.8807\n",
      "Epoch 7/20\n",
      "15000/15000 [==============================] - 2s - loss: 0.1031 - binary_accuracy: 0.9692 - val_loss: 0.3045 - val_binary_accuracy: 0.8848\n",
      "Epoch 8/20\n",
      "15000/15000 [==============================] - 2s - loss: 0.0847 - binary_accuracy: 0.9759 - val_loss: 0.3366 - val_binary_accuracy: 0.8773\n",
      "Epoch 9/20\n",
      "15000/15000 [==============================] - 2s - loss: 0.0728 - binary_accuracy: 0.9806 - val_loss: 0.3593 - val_binary_accuracy: 0.8802\n",
      "Epoch 10/20\n",
      "15000/15000 [==============================] - 2s - loss: 0.0582 - binary_accuracy: 0.9859 - val_loss: 0.3728 - val_binary_accuracy: 0.8804\n",
      "Epoch 11/20\n",
      "15000/15000 [==============================] - 2s - loss: 0.0491 - binary_accuracy: 0.9885 - val_loss: 0.3981 - val_binary_accuracy: 0.8782\n",
      "Epoch 12/20\n",
      "15000/15000 [==============================] - 2s - loss: 0.0388 - binary_accuracy: 0.9919 - val_loss: 0.4392 - val_binary_accuracy: 0.8777\n",
      "Epoch 13/20\n",
      "15000/15000 [==============================] - 2s - loss: 0.0302 - binary_accuracy: 0.9943 - val_loss: 0.4528 - val_binary_accuracy: 0.8743\n",
      "Epoch 14/20\n",
      "15000/15000 [==============================] - 2s - loss: 0.0245 - binary_accuracy: 0.9956 - val_loss: 0.4799 - val_binary_accuracy: 0.8731\n",
      "Epoch 15/20\n",
      "15000/15000 [==============================] - 2s - loss: 0.0196 - binary_accuracy: 0.9970 - val_loss: 0.5726 - val_binary_accuracy: 0.8665\n",
      "Epoch 16/20\n",
      "15000/15000 [==============================] - 2s - loss: 0.0127 - binary_accuracy: 0.9992 - val_loss: 0.5566 - val_binary_accuracy: 0.8728\n",
      "Epoch 17/20\n",
      "15000/15000 [==============================] - 2s - loss: 0.0121 - binary_accuracy: 0.9987 - val_loss: 0.5844 - val_binary_accuracy: 0.8723\n",
      "Epoch 18/20\n",
      "15000/15000 [==============================] - 2s - loss: 0.0098 - binary_accuracy: 0.9983 - val_loss: 0.6081 - val_binary_accuracy: 0.8693\n",
      "Epoch 19/20\n",
      "15000/15000 [==============================] - 2s - loss: 0.0072 - binary_accuracy: 0.9992 - val_loss: 0.6404 - val_binary_accuracy: 0.8681\n",
      "Epoch 20/20\n",
      "15000/15000 [==============================] - 2s - loss: 0.0039 - binary_accuracy: 0.9999 - val_loss: 0.6808 - val_binary_accuracy: 0.8672\n"
     ]
    }
   ],
   "source": [
    "history = model.fit(partial_x_train,partial_y_train,\n",
    "                   epochs=20,\n",
    "                   batch_size=512,\n",
    "                   validation_data=(x_val,y_val))"
   ]
  },
  {
   "cell_type": "markdown",
   "metadata": {},
   "source": [
    "model.fit() Trả về History object, và có chưa 1 member là history </br>\n",
    "(là 1 dict có data về tất cả quá trình training)"
   ]
  },
  {
   "cell_type": "code",
   "execution_count": 27,
   "metadata": {},
   "outputs": [
    {
     "data": {
      "text/plain": [
       "dict_keys(['val_binary_accuracy', 'val_loss', 'loss', 'binary_accuracy'])"
      ]
     },
     "execution_count": 27,
     "metadata": {},
     "output_type": "execute_result"
    }
   ],
   "source": [
    "history_dict = history.history\n",
    "history_dict.keys()"
   ]
  },
  {
   "cell_type": "markdown",
   "metadata": {},
   "source": [
    "## Plot quá trình training :"
   ]
  },
  {
   "cell_type": "code",
   "execution_count": 28,
   "metadata": {},
   "outputs": [],
   "source": [
    "import matplotlib.pyplot as plt"
   ]
  },
  {
   "cell_type": "code",
   "execution_count": 29,
   "metadata": {},
   "outputs": [
    {
     "data": {
      "image/png": "[encoded data removed]",
      "text/plain": [
       "<matplotlib.figure.Figure at 0x7f1efc2c56d8>"
      ]
     },
     "metadata": {},
     "output_type": "display_data"
    }
   ],
   "source": [
    "# plot training & validate loss\n",
    "loss_values = history_dict['loss']\n",
    "val_loss_values = history_dict['val_loss']\n",
    "epochs = range(1, len(loss_values)+1)\n",
    "# bo : blue dot\n",
    "plt.plot(epochs, loss_values, 'bo')\n",
    "plt.plot(epochs, val_loss_values, 'b+')\n",
    "plt.xlabel('Epochs')\n",
    "plt.ylabel('Loss')\n",
    "\n",
    "plt.show()"
   ]
  },
  {
   "cell_type": "code",
   "execution_count": 31,
   "metadata": {},
   "outputs": [
    {
     "data": {
      "image/png": "[encoded data removed]",
      "text/plain": [
       "<matplotlib.figure.Figure at 0x7f1efb9144e0>"
      ]
     },
     "metadata": {},
     "output_type": "display_data"
    }
   ],
   "source": [
    "# plot training & validate accuracy\n",
    "plt.clf() # clear figure truoc\n",
    "acc_values = history_dict['binary_accuracy']\n",
    "val_acc_values = history_dict['val_binary_accuracy']\n",
    "\n",
    "plt.plot(epochs, acc_values,'bo')\n",
    "plt.plot(epochs, val_acc_values, 'b+')\n",
    "plt.xlabel('Epochs')\n",
    "plt.ylabel('Accuracy')\n",
    "plt.show()"
   ]
  },
  {
   "cell_type": "markdown",
   "metadata": {},
   "source": [
    "### Nhận xét"
   ]
  },
  {
   "cell_type": "markdown",
   "metadata": {},
   "source": [
    "- Dễ thấy training_loss giảm và training_acc tăng theo mỗi epoch (tks SGD)\n",
    "- Nhưng val_loss và val_acc lại ngược lại từ epoch thứ 4 -> over-fitting\n",
    "Các model làm tốt với training data <b>chưa chắc đã chính xác</b> với data mới </br>\n",
    "trong trường hợp này, ta có thể dừng training chỉ sau 3 epochs"
   ]
  },
  {
   "cell_type": "markdown",
   "metadata": {},
   "source": [
    "### Tạo 1 model mới và train với 4 epochs\n"
   ]
  },
  {
   "cell_type": "code",
   "execution_count": 32,
   "metadata": {},
   "outputs": [
    {
     "name": "stdout",
     "output_type": "stream",
     "text": [
      "Epoch 1/4\n",
      "15000/15000 [==============================] - 1s - loss: 0.5299 - acc: 0.7712     \n",
      "Epoch 2/4\n",
      "15000/15000 [==============================] - 1s - loss: 0.3149 - acc: 0.9005     \n",
      "Epoch 3/4\n",
      "15000/15000 [==============================] - 1s - loss: 0.2303 - acc: 0.9252     \n",
      "Epoch 4/4\n",
      "15000/15000 [==============================] - 1s - loss: 0.1817 - acc: 0.9412     \n",
      "24992/25000 [============================>.] - ETA: 0s"
     ]
    }
   ],
   "source": [
    "model = models.Sequential()\n",
    "\n",
    "model.add(layers.Dense(16,activation='relu',input_shape=(10000,)))\n",
    "model.add(layers.Dense(16,activation='relu'))\n",
    "model.add(layers.Dense(1,activation='sigmoid'))\n",
    "\n",
    "model.compile(optimizer=optimizers.RMSprop(lr=0.001),\n",
    "             loss= losses.binary_crossentropy, \n",
    "             metrics = ['accuracy'])\n",
    "\n",
    "model.fit(partial_x_train,partial_y_train,\n",
    "         epochs=4,\n",
    "         batch_size=512)\n",
    "\n",
    "result = model.evaluate(x_test,y_test)"
   ]
  },
  {
   "cell_type": "code",
   "execution_count": 33,
   "metadata": {},
   "outputs": [
    {
     "data": {
      "text/plain": [
       "[0.29251944739341734, 0.88395999999999997]"
      ]
     },
     "execution_count": 33,
     "metadata": {},
     "output_type": "execute_result"
    }
   ],
   "source": [
    "result"
   ]
  },
  {
   "cell_type": "markdown",
   "metadata": {},
   "source": [
    "<b>Accuracy 88%</b>"
   ]
  },
  {
   "cell_type": "markdown",
   "metadata": {},
   "source": [
    "## Predict sau khi đã train model "
   ]
  },
  {
   "cell_type": "code",
   "execution_count": 34,
   "metadata": {},
   "outputs": [
    {
     "data": {
      "text/plain": [
       "array([[ 0.94102699],\n",
       "       [ 0.79343379],\n",
       "       [ 0.99759918],\n",
       "       ..., \n",
       "       [ 0.63619214],\n",
       "       [ 0.02018124],\n",
       "       [ 0.84359801]], dtype=float32)"
      ]
     },
     "execution_count": 34,
     "metadata": {},
     "output_type": "execute_result"
    }
   ],
   "source": [
    "model.predict(x_test)"
   ]
  },
  {
   "cell_type": "markdown",
   "metadata": {},
   "source": [
    "Model cho predict positive với các output ~1, và negative với các predict ~ 0\n",
    "( confident )"
   ]
  },
  {
   "cell_type": "markdown",
   "metadata": {},
   "source": [
    "### Ta sẽ test 1 số model với activation, số hidden unit và hidden layers khác  "
   ]
  },
  {
   "cell_type": "code",
   "execution_count": null,
   "metadata": {},
   "outputs": [],
   "source": []
  }
 ],
 "metadata": {
  "kernelspec": {
   "display_name": "Python 3",
   "language": "python",
   "name": "python3"
  },
  "language_info": {
   "codemirror_mode": {
    "name": "ipython",
    "version": 3
   },
   "file_extension": ".py",
   "mimetype": "text/x-python",
   "name": "python",
   "nbconvert_exporter": "python",
   "pygments_lexer": "ipython3",
   "version": "3.5.2"
  }
 },
 "nbformat": 4,
 "nbformat_minor": 2
}
