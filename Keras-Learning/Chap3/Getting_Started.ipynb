{
 "cells": [
  {
   "cell_type": "code",
   "execution_count": 1,
   "metadata": {},
   "outputs": [
    {
     "name": "stderr",
     "output_type": "stream",
     "text": [
      "Using TensorFlow backend.\n"
     ]
    }
   ],
   "source": [
    "import keras"
   ]
  },
  {
   "cell_type": "markdown",
   "metadata": {},
   "source": [
    "## Layer trong Keras"
   ]
  },
  {
   "cell_type": "code",
   "execution_count": 2,
   "metadata": {},
   "outputs": [],
   "source": [
    "from keras import layers"
   ]
  },
  {
   "cell_type": "code",
   "execution_count": 5,
   "metadata": {},
   "outputs": [],
   "source": [
    "layer = layers.Dense(32, input_shape=(784,))\n",
    "# layer trên chỉ accept 2D tensors (*,784)\n",
    "# dim sau để trống ( batch dim) vì giá trị nào cũng chấp nhận\n",
    "# output của layer này là (None,32) -> Layer sau không cần truyền input_shape \n",
    "# mà lấy đúng shape của output của layer trên"
   ]
  },
  {
   "cell_type": "code",
   "execution_count": 6,
   "metadata": {},
   "outputs": [],
   "source": [
    "from keras import models"
   ]
  },
  {
   "cell_type": "code",
   "execution_count": 8,
   "metadata": {},
   "outputs": [],
   "source": [
    "model = models.Sequential() # khởi tạo model\n",
    "model.add(layers.Dense(32,input_shape=(784,)))\n",
    "model.add(layers.Dense(32)) # không cần truyền input_shape"
   ]
  },
  {
   "cell_type": "markdown",
   "metadata": {},
   "source": [
    "## Networks of Layers"
   ]
  },
  {
   "cell_type": "markdown",
   "metadata": {},
   "source": [
    "Cách phổ biến nhất của 1 mô hình deep learning là 1 chuỗi các layer stack trồng lên nhau "
   ]
  },
  {
   "cell_type": "markdown",
   "metadata": {},
   "source": [
    "Khi học sâu hơn, ta sẽ gặp các mô hình phức tạp hơn : \n",
    "    - network chia nhánh \n",
    "    - Nhiều input network\n",
    "    - Inception"
   ]
  },
  {
   "cell_type": "markdown",
   "metadata": {},
   "source": [
    "## Loss functions và optimizers"
   ]
  },
  {
   "cell_type": "markdown",
   "metadata": {},
   "source": [
    "### Loss function \n",
    "Biểu diễn sự sai lệch của predict so với ground truth\n",
    "( output layer với label )\n",
    "### Optimizer \n",
    "Là cách network update các weights dựa theo loss function\n",
    "( hầu hết là các dạng của SGD )"
   ]
  },
  {
   "cell_type": "markdown",
   "metadata": {},
   "source": [
    "### Một network có thể có nhiều ouput -> Nhiều Loss function\n",
    "( Thường là loss function của từng layer )"
   ]
  },
  {
   "cell_type": "markdown",
   "metadata": {},
   "source": [
    "### Nên chọn đúng Loss function cho từng bài toán\n",
    "Chọn Loss function biểu diễn đúng sự liên quan ( độ lệch chuẩn ) của output và ground truth\n",
    "Một số ví dụ : \n",
    "- binary classify : <b>binary cross entropy</b>\n",
    "- many classify : <b>categorical cross entropy</b>\n",
    "- regression : mean <b>squared </b>\n",
    "- sequence problem : <b>CTC</b>"
   ]
  },
  {
   "cell_type": "markdown",
   "metadata": {},
   "source": [
    "## Xây dựng Model trong keras\n",
    "- Sử dụng Sequential()\n",
    "- tự viết functional API cho 1 model \n",
    "\n",
    "Quá trình học được configure ở bước model.compile : \n",
    "- Chỉ ra optimizer\n",
    "- Loss function\n",
    "- Số liệu biểu diễn trong quá trình học ( metric )"
   ]
  },
  {
   "cell_type": "code",
   "execution_count": 9,
   "metadata": {},
   "outputs": [],
   "source": [
    "from keras import  optimizers\n",
    "    "
   ]
  },
  {
   "cell_type": "code",
   "execution_count": 10,
   "metadata": {},
   "outputs": [],
   "source": [
    "model.compile(optimizer=optimizers.RMSprop(lr=0.001),\n",
    "             loss='mse',\n",
    "             metrics=['accuracy'])"
   ]
  },
  {
   "cell_type": "code",
   "execution_count": 11,
   "metadata": {},
   "outputs": [],
   "source": [
    "# Bước cuối cùng là model.fit(input, target, batch_size, epochs)"
   ]
  },
  {
   "cell_type": "code",
   "execution_count": null,
   "metadata": {},
   "outputs": [],
   "source": []
  }
 ],
 "metadata": {
  "kernelspec": {
   "display_name": "Python 3",
   "language": "python",
   "name": "python3"
  },
  "language_info": {
   "codemirror_mode": {
    "name": "ipython",
    "version": 3
   },
   "file_extension": ".py",
   "mimetype": "text/x-python",
   "name": "python",
   "nbconvert_exporter": "python",
   "pygments_lexer": "ipython3",
   "version": "3.5.2"
  }
 },
 "nbformat": 4,
 "nbformat_minor": 2
}
